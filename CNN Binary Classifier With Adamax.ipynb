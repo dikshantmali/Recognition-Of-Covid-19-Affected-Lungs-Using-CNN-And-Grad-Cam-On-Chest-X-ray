{
 "cells": [
  {
   "cell_type": "code",
   "execution_count": 1,
   "metadata": {},
   "outputs": [],
   "source": [
    "from tensorflow import keras\n",
    "from tensorflow.keras.models import Sequential\n",
    "from tensorflow.keras.layers import Conv2D\n",
    "from tensorflow.keras.layers import MaxPooling2D\n",
    "from tensorflow.keras.layers import Flatten\n",
    "from tensorflow.keras.layers import Dense"
   ]
  },
  {
   "cell_type": "code",
   "execution_count": 2,
   "metadata": {},
   "outputs": [
    {
     "name": "stdout",
     "output_type": "stream",
     "text": [
      "Found 5984 images belonging to 2 classes.\n",
      "Found 1496 images belonging to 2 classes.\n"
     ]
    }
   ],
   "source": [
    "# Part 2 - Fitting the CNN to the images\n",
    "\n",
    "from tensorflow.keras.preprocessing.image import ImageDataGenerator\n",
    "\n",
    "train_datagen = ImageDataGenerator(rescale = 1./255,\n",
    "                                   shear_range = 0.2,\n",
    "                                   zoom_range = 0.2,\n",
    "                                   horizontal_flip = True)\n",
    "\n",
    "test_datagen = ImageDataGenerator(rescale = 1./255)\n",
    "\n",
    "training_set = train_datagen.flow_from_directory('main dataset/train',\n",
    "                                                 target_size = (64, 64),\n",
    "                                                 batch_size = 32,\n",
    "                                                 class_mode = 'binary')\n",
    "\n",
    "test_set = test_datagen.flow_from_directory('main dataset/test',\n",
    "                                            target_size = (64, 64),\n",
    "                                            batch_size = 32,\n",
    "                                            class_mode = 'binary')"
   ]
  },
  {
   "cell_type": "code",
   "execution_count": 3,
   "metadata": {},
   "outputs": [],
   "source": [
    "# Initialising the CNN\n",
    "classifier = Sequential()\n",
    "\n",
    "# Step 1 - Convolution\n",
    "classifier.add(Conv2D(32, (3, 3), input_shape = (64, 64, 3), activation = 'relu'))\n",
    "\n",
    "# Step 2 - Pooling\n",
    "classifier.add(MaxPooling2D(pool_size = (2, 2)))\n",
    "\n",
    "# Adding a second convolutional layer\n",
    "classifier.add(Conv2D(32, (3, 3), activation = 'relu'))\n",
    "classifier.add(MaxPooling2D(pool_size = (2, 2)))\n",
    "\n",
    "# Step 3 - Flattening\n",
    "classifier.add(Flatten())\n",
    "\n",
    "# Step 4 - Full connection\n",
    "classifier.add(Dense(units = 128, activation = 'relu'))\n",
    "classifier.add(Dense(units = 1, activation = 'sigmoid'))\n",
    "\n",
    "# Compiling the CNN\n",
    "classifier.compile(optimizer = 'Adamax', loss = 'binary_crossentropy', metrics = ['accuracy'])\n"
   ]
  },
  {
   "cell_type": "code",
   "execution_count": 4,
   "metadata": {},
   "outputs": [
    {
     "name": "stdout",
     "output_type": "stream",
     "text": [
      "Model: \"sequential\"\n",
      "_________________________________________________________________\n",
      "Layer (type)                 Output Shape              Param #   \n",
      "=================================================================\n",
      "conv2d (Conv2D)              (None, 62, 62, 32)        896       \n",
      "_________________________________________________________________\n",
      "max_pooling2d (MaxPooling2D) (None, 31, 31, 32)        0         \n",
      "_________________________________________________________________\n",
      "conv2d_1 (Conv2D)            (None, 29, 29, 32)        9248      \n",
      "_________________________________________________________________\n",
      "max_pooling2d_1 (MaxPooling2 (None, 14, 14, 32)        0         \n",
      "_________________________________________________________________\n",
      "flatten (Flatten)            (None, 6272)              0         \n",
      "_________________________________________________________________\n",
      "dense (Dense)                (None, 128)               802944    \n",
      "_________________________________________________________________\n",
      "dense_1 (Dense)              (None, 1)                 129       \n",
      "=================================================================\n",
      "Total params: 813,217\n",
      "Trainable params: 813,217\n",
      "Non-trainable params: 0\n",
      "_________________________________________________________________\n"
     ]
    }
   ],
   "source": [
    "classifier.summary()"
   ]
  },
  {
   "cell_type": "code",
   "execution_count": 5,
   "metadata": {},
   "outputs": [
    {
     "name": "stdout",
     "output_type": "stream",
     "text": [
      "WARNING:tensorflow:From <ipython-input-5-de6c5e7d6df6>:9: Model.fit_generator (from tensorflow.python.keras.engine.training) is deprecated and will be removed in a future version.\n",
      "Instructions for updating:\n",
      "Please use Model.fit, which supports generators.\n",
      "Epoch 1/35\n",
      "187/187 [==============================] - 37s 199ms/step - loss: 0.5936 - accuracy: 0.6726 - val_loss: 0.7959 - val_accuracy: 0.5475\n",
      "Epoch 2/35\n",
      "187/187 [==============================] - 19s 99ms/step - loss: 0.4661 - accuracy: 0.7797 - val_loss: 0.7216 - val_accuracy: 0.5943\n",
      "Epoch 3/35\n",
      "187/187 [==============================] - 18s 99ms/step - loss: 0.4440 - accuracy: 0.7903 - val_loss: 0.6568 - val_accuracy: 0.6350\n",
      "Epoch 4/35\n",
      "187/187 [==============================] - 19s 99ms/step - loss: 0.4223 - accuracy: 0.8077 - val_loss: 0.6693 - val_accuracy: 0.6437\n",
      "Epoch 5/35\n",
      "187/187 [==============================] - 18s 98ms/step - loss: 0.3992 - accuracy: 0.8160 - val_loss: 0.6321 - val_accuracy: 0.6584\n",
      "Epoch 6/35\n",
      "187/187 [==============================] - 19s 99ms/step - loss: 0.3921 - accuracy: 0.8189 - val_loss: 0.6830 - val_accuracy: 0.6317\n",
      "Epoch 7/35\n",
      "187/187 [==============================] - 18s 98ms/step - loss: 0.3731 - accuracy: 0.8259 - val_loss: 0.5943 - val_accuracy: 0.6671\n",
      "Epoch 8/35\n",
      "187/187 [==============================] - 19s 100ms/step - loss: 0.3623 - accuracy: 0.8377 - val_loss: 0.5860 - val_accuracy: 0.6705\n",
      "Epoch 9/35\n",
      "187/187 [==============================] - 19s 99ms/step - loss: 0.3483 - accuracy: 0.8384 - val_loss: 0.6193 - val_accuracy: 0.6611\n",
      "Epoch 10/35\n",
      "187/187 [==============================] - 18s 96ms/step - loss: 0.3547 - accuracy: 0.8421 - val_loss: 0.5624 - val_accuracy: 0.6972\n",
      "Epoch 11/35\n",
      "187/187 [==============================] - 18s 99ms/step - loss: 0.3404 - accuracy: 0.8431 - val_loss: 0.5663 - val_accuracy: 0.7072\n",
      "Epoch 12/35\n",
      "187/187 [==============================] - 19s 100ms/step - loss: 0.3280 - accuracy: 0.8526 - val_loss: 0.5546 - val_accuracy: 0.7025\n",
      "Epoch 13/35\n",
      "187/187 [==============================] - 19s 103ms/step - loss: 0.3234 - accuracy: 0.8521 - val_loss: 0.5703 - val_accuracy: 0.7159\n",
      "Epoch 14/35\n",
      "187/187 [==============================] - 18s 97ms/step - loss: 0.3195 - accuracy: 0.8511 - val_loss: 0.5188 - val_accuracy: 0.7340\n",
      "Epoch 15/35\n",
      "187/187 [==============================] - 18s 97ms/step - loss: 0.3106 - accuracy: 0.8585 - val_loss: 0.5143 - val_accuracy: 0.7286\n",
      "Epoch 16/35\n",
      "187/187 [==============================] - 18s 97ms/step - loss: 0.3046 - accuracy: 0.8595 - val_loss: 0.5303 - val_accuracy: 0.7266\n",
      "Epoch 17/35\n",
      "187/187 [==============================] - 18s 97ms/step - loss: 0.3058 - accuracy: 0.8586 - val_loss: 0.5389 - val_accuracy: 0.7166\n",
      "Epoch 18/35\n",
      "187/187 [==============================] - 18s 98ms/step - loss: 0.2938 - accuracy: 0.8680 - val_loss: 0.4981 - val_accuracy: 0.7380\n",
      "Epoch 19/35\n",
      "187/187 [==============================] - 18s 99ms/step - loss: 0.2926 - accuracy: 0.8670 - val_loss: 0.4833 - val_accuracy: 0.7587\n",
      "Epoch 20/35\n",
      "187/187 [==============================] - 18s 99ms/step - loss: 0.2887 - accuracy: 0.8720 - val_loss: 0.4993 - val_accuracy: 0.7386\n",
      "Epoch 21/35\n",
      "187/187 [==============================] - 19s 102ms/step - loss: 0.2801 - accuracy: 0.8775 - val_loss: 0.4861 - val_accuracy: 0.7560\n",
      "Epoch 22/35\n",
      "187/187 [==============================] - 18s 99ms/step - loss: 0.2712 - accuracy: 0.8798 - val_loss: 0.5492 - val_accuracy: 0.7219\n",
      "Epoch 23/35\n",
      "187/187 [==============================] - 19s 101ms/step - loss: 0.2775 - accuracy: 0.8770 - val_loss: 0.5494 - val_accuracy: 0.7373\n",
      "Epoch 24/35\n",
      "187/187 [==============================] - 18s 97ms/step - loss: 0.2610 - accuracy: 0.8847 - val_loss: 0.4674 - val_accuracy: 0.7694\n",
      "Epoch 25/35\n",
      "187/187 [==============================] - 18s 97ms/step - loss: 0.2681 - accuracy: 0.8802 - val_loss: 0.4914 - val_accuracy: 0.7447\n",
      "Epoch 26/35\n",
      "187/187 [==============================] - 18s 97ms/step - loss: 0.2676 - accuracy: 0.8845 - val_loss: 0.4416 - val_accuracy: 0.7841\n",
      "Epoch 27/35\n",
      "187/187 [==============================] - 20s 106ms/step - loss: 0.2638 - accuracy: 0.8839 - val_loss: 0.4494 - val_accuracy: 0.7747\n",
      "Epoch 28/35\n",
      "187/187 [==============================] - 18s 98ms/step - loss: 0.2586 - accuracy: 0.8844 - val_loss: 0.4690 - val_accuracy: 0.7687\n",
      "Epoch 29/35\n",
      "187/187 [==============================] - 18s 97ms/step - loss: 0.2625 - accuracy: 0.8824 - val_loss: 0.4524 - val_accuracy: 0.7674\n",
      "Epoch 30/35\n",
      "187/187 [==============================] - 19s 102ms/step - loss: 0.2525 - accuracy: 0.8905 - val_loss: 0.4291 - val_accuracy: 0.7874\n",
      "Epoch 31/35\n",
      "187/187 [==============================] - 18s 98ms/step - loss: 0.2570 - accuracy: 0.8900 - val_loss: 0.7168 - val_accuracy: 0.6745\n",
      "Epoch 32/35\n",
      "187/187 [==============================] - 19s 100ms/step - loss: 0.2522 - accuracy: 0.8907 - val_loss: 0.4766 - val_accuracy: 0.7607\n",
      "Epoch 33/35\n",
      "187/187 [==============================] - 19s 101ms/step - loss: 0.2529 - accuracy: 0.8914 - val_loss: 0.5278 - val_accuracy: 0.7420\n",
      "Epoch 34/35\n",
      "187/187 [==============================] - 18s 96ms/step - loss: 0.2410 - accuracy: 0.8997 - val_loss: 0.4820 - val_accuracy: 0.7607\n",
      "Epoch 35/35\n",
      "187/187 [==============================] - 18s 96ms/step - loss: 0.2490 - accuracy: 0.8902 - val_loss: 0.4691 - val_accuracy: 0.7560\n",
      "Training Completed!\n",
      "Time Elapsed in seconds 672.0505912\n"
     ]
    }
   ],
   "source": [
    "from timeit import default_timer as timer\n",
    "start = timer()\n",
    "\n",
    "\n",
    " \n",
    "\n",
    "history =classifier.fit_generator(training_set,                         \n",
    "                         epochs = 35,\n",
    "                         validation_data = test_set\n",
    "                         )\n",
    "\n",
    "end = timer() \n",
    "print('Training Completed!')\n",
    "print(\"Time Elapsed in seconds\",  (end - start))"
   ]
  },
  {
   "cell_type": "code",
   "execution_count": 6,
   "metadata": {},
   "outputs": [
    {
     "name": "stdout",
     "output_type": "stream",
     "text": [
      "dict_keys(['loss', 'accuracy', 'val_loss', 'val_accuracy'])\n"
     ]
    },
    {
     "data": {
      "image/png": "[encoded data removed]",
      "text/plain": [
       "<Figure size 432x288 with 1 Axes>"
      ]
     },
     "metadata": {
      "needs_background": "light"
     },
     "output_type": "display_data"
    },
    {
     "data": {
      "image/png": "[encoded data removed]",
      "text/plain": [
       "<Figure size 432x288 with 1 Axes>"
      ]
     },
     "metadata": {
      "needs_background": "light"
     },
     "output_type": "display_data"
    }
   ],
   "source": [
    "import matplotlib.pyplot as plt\n",
    "# list all data in history\n",
    "print(history.history.keys())\n",
    "# summarize history for accuracy\n",
    "plt.plot(history.history['accuracy'])\n",
    "plt.plot(history.history['val_accuracy'])\n",
    "plt.title('model accuracy')\n",
    "plt.ylabel('accuracy')\n",
    "plt.xlabel('epoch')\n",
    "plt.legend(['train', 'test'], loc='upper left')\n",
    "plt.show()\n",
    "# summarize history for loss\n",
    "plt.plot(history.history['loss'])\n",
    "plt.plot(history.history['val_loss'])\n",
    "plt.title('model loss')\n",
    "plt.ylabel('loss')\n",
    "\n",
    "\n",
    "\n",
    "plt.xlabel('epoch')\n",
    "plt.legend(['train', 'test'], loc='upper left')\n",
    "plt.show()\n"
   ]
  },
  {
   "cell_type": "code",
   "execution_count": 7,
   "metadata": {},
   "outputs": [
    {
     "name": "stdout",
     "output_type": "stream",
     "text": [
      "Model: \"sequential\"\n",
      "_________________________________________________________________\n",
      "Layer (type)                 Output Shape              Param #   \n",
      "=================================================================\n",
      "conv2d (Conv2D)              (None, 62, 62, 32)        896       \n",
      "_________________________________________________________________\n",
      "max_pooling2d (MaxPooling2D) (None, 31, 31, 32)        0         \n",
      "_________________________________________________________________\n",
      "conv2d_1 (Conv2D)            (None, 29, 29, 32)        9248      \n",
      "_________________________________________________________________\n",
      "max_pooling2d_1 (MaxPooling2 (None, 14, 14, 32)        0         \n",
      "_________________________________________________________________\n",
      "flatten (Flatten)            (None, 6272)              0         \n",
      "_________________________________________________________________\n",
      "dense (Dense)                (None, 128)               802944    \n",
      "_________________________________________________________________\n",
      "dense_1 (Dense)              (None, 1)                 129       \n",
      "=================================================================\n",
      "Total params: 813,217\n",
      "Trainable params: 813,217\n",
      "Non-trainable params: 0\n",
      "_________________________________________________________________\n",
      "Saved model to disk\n"
     ]
    }
   ],
   "source": [
    "# save model and architecture to single file\n",
    "classifier.save('CNN Binary Classifier With Adamax.h5')\n",
    "classifier.summary()\n",
    "\n",
    "print(\"Saved model to disk\")"
   ]
  },
  {
   "cell_type": "code",
   "execution_count": null,
   "metadata": {},
   "outputs": [],
   "source": []
  },
  {
   "cell_type": "code",
   "execution_count": null,
   "metadata": {},
   "outputs": [],
   "source": []
  }
 ],
 "metadata": {
  "kernelspec": {
   "display_name": "gpu",
   "language": "python",
   "name": "gpu"
  },
  "language_info": {
   "codemirror_mode": {
    "name": "ipython",
    "version": 3
   },
   "file_extension": ".py",
   "mimetype": "text/x-python",
   "name": "python",
   "nbconvert_exporter": "python",
   "pygments_lexer": "ipython3",
   "version": "3.6.13"
  }
 },
 "nbformat": 4,
 "nbformat_minor": 4
}
