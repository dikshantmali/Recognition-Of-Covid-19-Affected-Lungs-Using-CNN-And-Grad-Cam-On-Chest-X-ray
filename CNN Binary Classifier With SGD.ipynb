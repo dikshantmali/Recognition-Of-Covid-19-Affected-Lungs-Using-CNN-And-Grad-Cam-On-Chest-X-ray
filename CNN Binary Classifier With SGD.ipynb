{
 "cells": [
  {
   "cell_type": "code",
   "execution_count": 1,
   "metadata": {},
   "outputs": [],
   "source": [
    "from tensorflow import keras\n",
    "from tensorflow.keras.models import Sequential\n",
    "from tensorflow.keras.layers import Conv2D\n",
    "from tensorflow.keras.layers import MaxPooling2D\n",
    "from tensorflow.keras.layers import Flatten\n",
    "from tensorflow.keras.layers import Dense"
   ]
  },
  {
   "cell_type": "code",
   "execution_count": 2,
   "metadata": {},
   "outputs": [
    {
     "name": "stdout",
     "output_type": "stream",
     "text": [
      "Found 5984 images belonging to 2 classes.\n",
      "Found 1496 images belonging to 2 classes.\n"
     ]
    }
   ],
   "source": [
    "# Part 2 - Fitting the CNN to the images\n",
    "\n",
    "from tensorflow.keras.preprocessing.image import ImageDataGenerator\n",
    "\n",
    "train_datagen = ImageDataGenerator(rescale = 1./255,\n",
    "                                   shear_range = 0.2,\n",
    "                                   zoom_range = 0.2,\n",
    "                                   horizontal_flip = True)\n",
    "\n",
    "test_datagen = ImageDataGenerator(rescale = 1./255)\n",
    "\n",
    "training_set = train_datagen.flow_from_directory('main dataset/train',\n",
    "                                                 target_size = (64, 64),\n",
    "                                                 batch_size = 32,\n",
    "                                                 class_mode = 'binary')\n",
    "\n",
    "test_set = test_datagen.flow_from_directory('main dataset/test',\n",
    "                                            target_size = (64, 64),\n",
    "                                            batch_size = 32,\n",
    "                                            class_mode = 'binary')"
   ]
  },
  {
   "cell_type": "code",
   "execution_count": 3,
   "metadata": {},
   "outputs": [],
   "source": [
    "# Initialising the CNN\n",
    "classifier = Sequential()\n",
    "\n",
    "# Step 1 - Convolution\n",
    "classifier.add(Conv2D(32, (3, 3), input_shape = (64, 64, 3), activation = 'relu'))\n",
    "\n",
    "# Step 2 - Pooling\n",
    "classifier.add(MaxPooling2D(pool_size = (2, 2)))\n",
    "\n",
    "# Adding a second convolutional layer\n",
    "classifier.add(Conv2D(32, (3, 3), activation = 'relu'))\n",
    "classifier.add(MaxPooling2D(pool_size = (2, 2)))\n",
    "\n",
    "# Step 3 - Flattening\n",
    "classifier.add(Flatten())\n",
    "\n",
    "# Step 4 - Full connection\n",
    "classifier.add(Dense(units = 128, activation = 'relu'))\n",
    "classifier.add(Dense(units = 1, activation = 'sigmoid'))\n",
    "\n",
    "# Compiling the CNN\n",
    "classifier.compile(optimizer = 'SGD', loss = 'binary_crossentropy', metrics = ['accuracy'])\n"
   ]
  },
  {
   "cell_type": "code",
   "execution_count": 4,
   "metadata": {},
   "outputs": [
    {
     "name": "stdout",
     "output_type": "stream",
     "text": [
      "Model: \"sequential\"\n",
      "_________________________________________________________________\n",
      "Layer (type)                 Output Shape              Param #   \n",
      "=================================================================\n",
      "conv2d (Conv2D)              (None, 62, 62, 32)        896       \n",
      "_________________________________________________________________\n",
      "max_pooling2d (MaxPooling2D) (None, 31, 31, 32)        0         \n",
      "_________________________________________________________________\n",
      "conv2d_1 (Conv2D)            (None, 29, 29, 32)        9248      \n",
      "_________________________________________________________________\n",
      "max_pooling2d_1 (MaxPooling2 (None, 14, 14, 32)        0         \n",
      "_________________________________________________________________\n",
      "flatten (Flatten)            (None, 6272)              0         \n",
      "_________________________________________________________________\n",
      "dense (Dense)                (None, 128)               802944    \n",
      "_________________________________________________________________\n",
      "dense_1 (Dense)              (None, 1)                 129       \n",
      "=================================================================\n",
      "Total params: 813,217\n",
      "Trainable params: 813,217\n",
      "Non-trainable params: 0\n",
      "_________________________________________________________________\n"
     ]
    }
   ],
   "source": [
    "classifier.summary()"
   ]
  },
  {
   "cell_type": "code",
   "execution_count": 5,
   "metadata": {},
   "outputs": [
    {
     "name": "stdout",
     "output_type": "stream",
     "text": [
      "WARNING:tensorflow:From <ipython-input-5-de6c5e7d6df6>:9: Model.fit_generator (from tensorflow.python.keras.engine.training) is deprecated and will be removed in a future version.\n",
      "Instructions for updating:\n",
      "Please use Model.fit, which supports generators.\n",
      "Epoch 1/35\n",
      "187/187 [==============================] - 18s 95ms/step - loss: 0.6589 - accuracy: 0.6394 - val_loss: 0.7345 - val_accuracy: 0.5307\n",
      "Epoch 2/35\n",
      "187/187 [==============================] - 18s 94ms/step - loss: 0.5719 - accuracy: 0.7057 - val_loss: 0.6681 - val_accuracy: 0.5956\n",
      "Epoch 3/35\n",
      "187/187 [==============================] - 18s 95ms/step - loss: 0.5263 - accuracy: 0.7425 - val_loss: 0.6631 - val_accuracy: 0.6163\n",
      "Epoch 4/35\n",
      "187/187 [==============================] - 18s 97ms/step - loss: 0.4983 - accuracy: 0.7589 - val_loss: 0.6450 - val_accuracy: 0.6210\n",
      "Epoch 5/35\n",
      "187/187 [==============================] - 17s 92ms/step - loss: 0.4869 - accuracy: 0.7640 - val_loss: 0.6635 - val_accuracy: 0.6130\n",
      "Epoch 6/35\n",
      "187/187 [==============================] - 18s 96ms/step - loss: 0.4676 - accuracy: 0.7782 - val_loss: 0.6700 - val_accuracy: 0.6036\n",
      "Epoch 7/35\n",
      "187/187 [==============================] - 18s 94ms/step - loss: 0.4503 - accuracy: 0.7828 - val_loss: 0.6588 - val_accuracy: 0.6451\n",
      "Epoch 8/35\n",
      "187/187 [==============================] - 17s 93ms/step - loss: 0.4346 - accuracy: 0.8006 - val_loss: 0.6387 - val_accuracy: 0.6103\n",
      "Epoch 9/35\n",
      "187/187 [==============================] - 17s 93ms/step - loss: 0.4235 - accuracy: 0.8041 - val_loss: 0.6660 - val_accuracy: 0.6698\n",
      "Epoch 10/35\n",
      "187/187 [==============================] - 18s 95ms/step - loss: 0.4151 - accuracy: 0.8100 - val_loss: 0.6375 - val_accuracy: 0.6003\n",
      "Epoch 11/35\n",
      "187/187 [==============================] - 18s 95ms/step - loss: 0.4093 - accuracy: 0.8072 - val_loss: 0.6815 - val_accuracy: 0.6631\n",
      "Epoch 12/35\n",
      "187/187 [==============================] - 18s 95ms/step - loss: 0.3993 - accuracy: 0.8155 - val_loss: 0.6124 - val_accuracy: 0.6324\n",
      "Epoch 13/35\n",
      "187/187 [==============================] - 18s 94ms/step - loss: 0.3861 - accuracy: 0.8183 - val_loss: 0.6503 - val_accuracy: 0.6163\n",
      "Epoch 14/35\n",
      "187/187 [==============================] - 18s 95ms/step - loss: 0.3808 - accuracy: 0.8239 - val_loss: 0.6075 - val_accuracy: 0.6664\n",
      "Epoch 15/35\n",
      "187/187 [==============================] - 17s 94ms/step - loss: 0.3737 - accuracy: 0.8287 - val_loss: 0.6157 - val_accuracy: 0.6765\n",
      "Epoch 16/35\n",
      "187/187 [==============================] - 17s 93ms/step - loss: 0.3659 - accuracy: 0.8235 - val_loss: 0.5802 - val_accuracy: 0.6691\n",
      "Epoch 17/35\n",
      "187/187 [==============================] - 17s 92ms/step - loss: 0.3570 - accuracy: 0.8371 - val_loss: 0.5711 - val_accuracy: 0.6684\n",
      "Epoch 18/35\n",
      "187/187 [==============================] - 22s 120ms/step - loss: 0.3530 - accuracy: 0.8402 - val_loss: 0.5718 - val_accuracy: 0.6858\n",
      "Epoch 19/35\n",
      "187/187 [==============================] - 18s 94ms/step - loss: 0.3448 - accuracy: 0.8446 - val_loss: 0.6499 - val_accuracy: 0.6430\n",
      "Epoch 20/35\n",
      "187/187 [==============================] - 45s 243ms/step - loss: 0.3445 - accuracy: 0.8412 - val_loss: 0.5575 - val_accuracy: 0.6852\n",
      "Epoch 21/35\n",
      "187/187 [==============================] - 19s 101ms/step - loss: 0.3348 - accuracy: 0.8506 - val_loss: 0.5818 - val_accuracy: 0.6678\n",
      "Epoch 22/35\n",
      "187/187 [==============================] - 17s 92ms/step - loss: 0.3234 - accuracy: 0.8533 - val_loss: 0.5236 - val_accuracy: 0.7119\n",
      "Epoch 23/35\n",
      "187/187 [==============================] - 17s 93ms/step - loss: 0.3241 - accuracy: 0.8504 - val_loss: 0.5671 - val_accuracy: 0.6765\n",
      "Epoch 24/35\n",
      "187/187 [==============================] - 18s 96ms/step - loss: 0.3268 - accuracy: 0.8506 - val_loss: 0.5522 - val_accuracy: 0.7119\n",
      "Epoch 25/35\n",
      "187/187 [==============================] - 19s 99ms/step - loss: 0.3293 - accuracy: 0.8456 - val_loss: 0.5261 - val_accuracy: 0.7119\n",
      "Epoch 26/35\n",
      "187/187 [==============================] - 18s 95ms/step - loss: 0.3254 - accuracy: 0.8590 - val_loss: 0.5337 - val_accuracy: 0.7019\n",
      "Epoch 27/35\n",
      "187/187 [==============================] - 18s 95ms/step - loss: 0.3174 - accuracy: 0.8508 - val_loss: 0.6060 - val_accuracy: 0.6691\n",
      "Epoch 28/35\n",
      "187/187 [==============================] - 17s 93ms/step - loss: 0.3044 - accuracy: 0.8588 - val_loss: 0.5491 - val_accuracy: 0.7146\n",
      "Epoch 29/35\n",
      "187/187 [==============================] - 18s 96ms/step - loss: 0.3096 - accuracy: 0.8600 - val_loss: 0.5792 - val_accuracy: 0.6745\n",
      "Epoch 30/35\n",
      "187/187 [==============================] - 18s 95ms/step - loss: 0.3031 - accuracy: 0.8571 - val_loss: 0.4926 - val_accuracy: 0.7440\n",
      "Epoch 31/35\n",
      "187/187 [==============================] - 18s 96ms/step - loss: 0.2992 - accuracy: 0.8606 - val_loss: 0.5297 - val_accuracy: 0.7233\n",
      "Epoch 32/35\n",
      "187/187 [==============================] - 17s 92ms/step - loss: 0.2969 - accuracy: 0.8678 - val_loss: 0.4705 - val_accuracy: 0.7854\n",
      "Epoch 33/35\n",
      "187/187 [==============================] - 17s 93ms/step - loss: 0.2914 - accuracy: 0.8700 - val_loss: 0.5092 - val_accuracy: 0.7273\n",
      "Epoch 34/35\n",
      "187/187 [==============================] - 18s 96ms/step - loss: 0.2886 - accuracy: 0.8710 - val_loss: 0.4984 - val_accuracy: 0.7306\n",
      "Epoch 35/35\n",
      "187/187 [==============================] - 17s 94ms/step - loss: 0.2923 - accuracy: 0.8727 - val_loss: 0.4764 - val_accuracy: 0.7440\n",
      "Training Completed!\n",
      "Time Elapsed in seconds 657.9966364\n"
     ]
    }
   ],
   "source": [
    "from timeit import default_timer as timer\n",
    "start = timer()\n",
    "\n",
    "\n",
    " \n",
    "\n",
    "history =classifier.fit_generator(training_set,                         \n",
    "                         epochs = 35,\n",
    "                         validation_data = test_set\n",
    "                         )\n",
    "\n",
    "end = timer() \n",
    "print('Training Completed!')\n",
    "print(\"Time Elapsed in seconds\",  (end - start))"
   ]
  },
  {
   "cell_type": "code",
   "execution_count": 6,
   "metadata": {},
   "outputs": [
    {
     "name": "stdout",
     "output_type": "stream",
     "text": [
      "dict_keys(['loss', 'accuracy', 'val_loss', 'val_accuracy'])\n"
     ]
    },
    {
     "data": {
      "image/png": "[encoded data removed]",
      "text/plain": [
       "<Figure size 432x288 with 1 Axes>"
      ]
     },
     "metadata": {
      "needs_background": "light"
     },
     "output_type": "display_data"
    },
    {
     "data": {
      "image/png": "[encoded data removed]",
      "text/plain": [
       "<Figure size 432x288 with 1 Axes>"
      ]
     },
     "metadata": {
      "needs_background": "light"
     },
     "output_type": "display_data"
    }
   ],
   "source": [
    "import matplotlib.pyplot as plt\n",
    "# list all data in history\n",
    "print(history.history.keys())\n",
    "# summarize history for accuracy\n",
    "plt.plot(history.history['accuracy'])\n",
    "plt.plot(history.history['val_accuracy'])\n",
    "plt.title('model accuracy')\n",
    "plt.ylabel('accuracy')\n",
    "plt.xlabel('epoch')\n",
    "plt.legend(['train', 'test'], loc='upper left')\n",
    "plt.show()\n",
    "# summarize history for loss\n",
    "plt.plot(history.history['loss'])\n",
    "plt.plot(history.history['val_loss'])\n",
    "plt.title('model loss')\n",
    "plt.ylabel('loss')\n",
    "plt.xlabel('epoch')\n",
    "plt.legend(['train', 'test'], loc='upper left')\n",
    "plt.show()\n"
   ]
  },
  {
   "cell_type": "code",
   "execution_count": 7,
   "metadata": {},
   "outputs": [
    {
     "name": "stdout",
     "output_type": "stream",
     "text": [
      "Model: \"sequential\"\n",
      "_________________________________________________________________\n",
      "Layer (type)                 Output Shape              Param #   \n",
      "=================================================================\n",
      "conv2d (Conv2D)              (None, 62, 62, 32)        896       \n",
      "_________________________________________________________________\n",
      "max_pooling2d (MaxPooling2D) (None, 31, 31, 32)        0         \n",
      "_________________________________________________________________\n",
      "conv2d_1 (Conv2D)            (None, 29, 29, 32)        9248      \n",
      "_________________________________________________________________\n",
      "max_pooling2d_1 (MaxPooling2 (None, 14, 14, 32)        0         \n",
      "_________________________________________________________________\n",
      "flatten (Flatten)            (None, 6272)              0         \n",
      "_________________________________________________________________\n",
      "dense (Dense)                (None, 128)               802944    \n",
      "_________________________________________________________________\n",
      "dense_1 (Dense)              (None, 1)                 129       \n",
      "=================================================================\n",
      "Total params: 813,217\n",
      "Trainable params: 813,217\n",
      "Non-trainable params: 0\n",
      "_________________________________________________________________\n",
      "Saved model to disk\n"
     ]
    }
   ],
   "source": [
    "# save model and architecture to single file\n",
    "classifier.save('CNN Binary Classifier With SGD.h5')\n",
    "classifier.summary()\n",
    "\n",
    "print(\"Saved model to disk\")"
   ]
  },
  {
   "cell_type": "code",
   "execution_count": null,
   "metadata": {},
   "outputs": [],
   "source": []
  }
 ],
 "metadata": {
  "kernelspec": {
   "display_name": "gpu",
   "language": "python",
   "name": "gpu"
  },
  "language_info": {
   "codemirror_mode": {
    "name": "ipython",
    "version": 3
   },
   "file_extension": ".py",
   "mimetype": "text/x-python",
   "name": "python",
   "nbconvert_exporter": "python",
   "pygments_lexer": "ipython3",
   "version": "3.6.13"
  }
 },
 "nbformat": 4,
 "nbformat_minor": 4
}
