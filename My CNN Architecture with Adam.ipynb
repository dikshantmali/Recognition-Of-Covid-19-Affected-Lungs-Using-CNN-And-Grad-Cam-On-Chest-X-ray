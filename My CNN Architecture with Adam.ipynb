{
 "cells": [
  {
   "cell_type": "code",
   "execution_count": 1,
   "metadata": {},
   "outputs": [
    {
     "name": "stdout",
     "output_type": "stream",
     "text": [
      "[PhysicalDevice(name='/physical_device:GPU:0', device_type='GPU')]\n"
     ]
    }
   ],
   "source": [
    "import tensorflow as tf\n",
    "from tensorflow.python.client import device_lib\n",
    "print(tf.config.list_physical_devices('GPU'))\n"
   ]
  },
  {
   "cell_type": "code",
   "execution_count": 2,
   "metadata": {},
   "outputs": [],
   "source": [
    "from tensorflow import keras\n",
    "from tensorflow.keras.models import Sequential\n",
    "from tensorflow.keras.layers import Conv2D\n",
    "from tensorflow.keras.layers import MaxPooling2D\n",
    "from tensorflow.keras.layers import Flatten\n",
    "from tensorflow.keras.layers import Dense"
   ]
  },
  {
   "cell_type": "code",
   "execution_count": 3,
   "metadata": {},
   "outputs": [
    {
     "name": "stdout",
     "output_type": "stream",
     "text": [
      "Found 5984 images belonging to 2 classes.\n",
      "Found 1496 images belonging to 2 classes.\n"
     ]
    }
   ],
   "source": [
    "# Part 2 - Fitting the CNN to the images\n",
    "\n",
    "from tensorflow.keras.preprocessing.image import ImageDataGenerator\n",
    "\n",
    "train_datagen = ImageDataGenerator(rescale = 1./255,\n",
    "                                   shear_range = 0.2,\n",
    "                                   zoom_range = 0.2,\n",
    "                                   horizontal_flip = True)\n",
    "\n",
    "test_datagen = ImageDataGenerator(rescale = 1./255)\n",
    "\n",
    "training_set = train_datagen.flow_from_directory('main dataset/train',\n",
    "                                                 target_size = (224, 224),\n",
    "                                                 batch_size = 32,\n",
    "                                                 class_mode = 'binary')\n",
    "\n",
    "test_set = test_datagen.flow_from_directory('main dataset/test',\n",
    "                                            target_size = (224, 224),\n",
    "                                            batch_size = 32,\n",
    "                                            class_mode = 'binary')"
   ]
  },
  {
   "cell_type": "code",
   "execution_count": 4,
   "metadata": {},
   "outputs": [
    {
     "data": {
      "text/plain": [
       "{'covid': 0, 'normal': 1}"
      ]
     },
     "execution_count": 4,
     "metadata": {},
     "output_type": "execute_result"
    }
   ],
   "source": [
    "training_set.class_indices"
   ]
  },
  {
   "cell_type": "code",
   "execution_count": 5,
   "metadata": {},
   "outputs": [],
   "source": [
    "# Initialising the CNN\n",
    "classifier = Sequential()\n",
    "\n",
    "# Step 1 - Convolution\n",
    "classifier.add(Conv2D(64, (3, 3), input_shape = (224, 224, 3), activation = 'relu'))\n",
    "\n",
    "# Step 2 - Pooling\n",
    "classifier.add(MaxPooling2D(pool_size = (2, 2)))\n",
    "\n",
    "# Adding a second convolutional layer\n",
    "classifier.add(Conv2D(64, (3, 3), activation = 'relu'))\n",
    "classifier.add(MaxPooling2D(pool_size = (2, 2)))\n",
    "\n",
    "classifier.add(Conv2D(128, (3, 3), activation = 'relu'))\n",
    "classifier.add(MaxPooling2D(pool_size = (2, 2)))\n",
    "\n",
    "# Step 3 - Flattening\n",
    "classifier.add(Flatten())\n",
    "\n",
    "# Step 4 - Full connection\n",
    "classifier.add(Dense(units = 128, activation = 'relu'))\n",
    "classifier.add(Dense(units = 1, activation = 'sigmoid'))\n",
    "\n",
    "# Compiling the CNN\n",
    "classifier.compile(optimizer = 'adam', loss = 'binary_crossentropy', metrics = ['accuracy'])\n"
   ]
  },
  {
   "cell_type": "code",
   "execution_count": 6,
   "metadata": {},
   "outputs": [
    {
     "name": "stdout",
     "output_type": "stream",
     "text": [
      "Model: \"sequential\"\n",
      "_________________________________________________________________\n",
      "Layer (type)                 Output Shape              Param #   \n",
      "=================================================================\n",
      "conv2d (Conv2D)              (None, 222, 222, 64)      1792      \n",
      "_________________________________________________________________\n",
      "max_pooling2d (MaxPooling2D) (None, 111, 111, 64)      0         \n",
      "_________________________________________________________________\n",
      "conv2d_1 (Conv2D)            (None, 109, 109, 64)      36928     \n",
      "_________________________________________________________________\n",
      "max_pooling2d_1 (MaxPooling2 (None, 54, 54, 64)        0         \n",
      "_________________________________________________________________\n",
      "conv2d_2 (Conv2D)            (None, 52, 52, 128)       73856     \n",
      "_________________________________________________________________\n",
      "max_pooling2d_2 (MaxPooling2 (None, 26, 26, 128)       0         \n",
      "_________________________________________________________________\n",
      "flatten (Flatten)            (None, 86528)             0         \n",
      "_________________________________________________________________\n",
      "dense (Dense)                (None, 128)               11075712  \n",
      "_________________________________________________________________\n",
      "dense_1 (Dense)              (None, 1)                 129       \n",
      "=================================================================\n",
      "Total params: 11,188,417\n",
      "Trainable params: 11,188,417\n",
      "Non-trainable params: 0\n",
      "_________________________________________________________________\n"
     ]
    }
   ],
   "source": [
    "classifier.summary()"
   ]
  },
  {
   "cell_type": "code",
   "execution_count": 7,
   "metadata": {},
   "outputs": [
    {
     "name": "stdout",
     "output_type": "stream",
     "text": [
      "WARNING:tensorflow:From <ipython-input-7-de6c5e7d6df6>:9: Model.fit_generator (from tensorflow.python.keras.engine.training) is deprecated and will be removed in a future version.\n",
      "Instructions for updating:\n",
      "Please use Model.fit, which supports generators.\n",
      "Epoch 1/35\n",
      "  2/187 [..............................] - ETA: 5s - loss: 2.0744 - accuracy: 0.5469WARNING:tensorflow:Callbacks method `on_train_batch_end` is slow compared to the batch time (batch time: 0.0114s vs `on_train_batch_end` time: 0.0524s). Check your callbacks.\n",
      "187/187 [==============================] - 59s 316ms/step - loss: 0.5668 - accuracy: 0.7176 - val_loss: 0.7343 - val_accuracy: 0.5755\n",
      "Epoch 2/35\n",
      "187/187 [==============================] - 59s 314ms/step - loss: 0.4427 - accuracy: 0.7901 - val_loss: 0.6223 - val_accuracy: 0.6564\n",
      "Epoch 3/35\n",
      "187/187 [==============================] - 59s 315ms/step - loss: 0.3901 - accuracy: 0.8267 - val_loss: 0.5113 - val_accuracy: 0.7146\n",
      "Epoch 4/35\n",
      "187/187 [==============================] - 60s 320ms/step - loss: 0.3337 - accuracy: 0.8553 - val_loss: 0.4584 - val_accuracy: 0.7814\n",
      "Epoch 5/35\n",
      "187/187 [==============================] - 59s 316ms/step - loss: 0.3001 - accuracy: 0.8668 - val_loss: 0.3781 - val_accuracy: 0.8342\n",
      "Epoch 6/35\n",
      "187/187 [==============================] - 59s 314ms/step - loss: 0.2674 - accuracy: 0.8860 - val_loss: 0.3588 - val_accuracy: 0.8356\n",
      "Epoch 7/35\n",
      "187/187 [==============================] - 59s 314ms/step - loss: 0.2643 - accuracy: 0.8825 - val_loss: 0.3688 - val_accuracy: 0.8249\n",
      "Epoch 8/35\n",
      "187/187 [==============================] - 59s 316ms/step - loss: 0.2409 - accuracy: 0.8961 - val_loss: 0.5197 - val_accuracy: 0.8068\n",
      "Epoch 9/35\n",
      "187/187 [==============================] - 60s 318ms/step - loss: 0.2344 - accuracy: 0.9042 - val_loss: 0.2861 - val_accuracy: 0.8830\n",
      "Epoch 10/35\n",
      "187/187 [==============================] - 59s 316ms/step - loss: 0.2103 - accuracy: 0.9111 - val_loss: 0.2359 - val_accuracy: 0.9144\n",
      "Epoch 11/35\n",
      "187/187 [==============================] - 59s 317ms/step - loss: 0.2050 - accuracy: 0.9139 - val_loss: 0.2307 - val_accuracy: 0.9071\n",
      "Epoch 12/35\n",
      "187/187 [==============================] - 60s 319ms/step - loss: 0.1641 - accuracy: 0.9313 - val_loss: 0.2851 - val_accuracy: 0.8870\n",
      "Epoch 13/35\n",
      "187/187 [==============================] - 60s 320ms/step - loss: 0.1875 - accuracy: 0.9233 - val_loss: 0.2725 - val_accuracy: 0.8864\n",
      "Epoch 14/35\n",
      "187/187 [==============================] - 59s 318ms/step - loss: 0.1621 - accuracy: 0.9313 - val_loss: 0.2093 - val_accuracy: 0.9258\n",
      "Epoch 15/35\n",
      "187/187 [==============================] - 60s 319ms/step - loss: 0.1485 - accuracy: 0.9403 - val_loss: 0.1856 - val_accuracy: 0.9184\n",
      "Epoch 16/35\n",
      "187/187 [==============================] - 59s 316ms/step - loss: 0.1367 - accuracy: 0.9445 - val_loss: 0.2079 - val_accuracy: 0.9205\n",
      "Epoch 17/35\n",
      "187/187 [==============================] - 59s 316ms/step - loss: 0.1441 - accuracy: 0.9440 - val_loss: 0.1477 - val_accuracy: 0.9445\n",
      "Epoch 18/35\n",
      "187/187 [==============================] - 59s 315ms/step - loss: 0.1357 - accuracy: 0.9452 - val_loss: 0.2110 - val_accuracy: 0.9124\n",
      "Epoch 19/35\n",
      "187/187 [==============================] - 59s 315ms/step - loss: 0.1223 - accuracy: 0.9529 - val_loss: 0.1502 - val_accuracy: 0.9472\n",
      "Epoch 20/35\n",
      "187/187 [==============================] - 59s 316ms/step - loss: 0.1109 - accuracy: 0.9589 - val_loss: 0.1736 - val_accuracy: 0.9332\n",
      "Epoch 21/35\n",
      "187/187 [==============================] - 59s 316ms/step - loss: 0.1096 - accuracy: 0.9574 - val_loss: 0.1684 - val_accuracy: 0.9358\n",
      "Epoch 22/35\n",
      "187/187 [==============================] - 59s 314ms/step - loss: 0.1094 - accuracy: 0.9572 - val_loss: 0.1479 - val_accuracy: 0.9412\n",
      "Epoch 23/35\n",
      "187/187 [==============================] - 59s 315ms/step - loss: 0.0971 - accuracy: 0.9617 - val_loss: 0.1361 - val_accuracy: 0.9432\n",
      "Epoch 24/35\n",
      "187/187 [==============================] - 59s 316ms/step - loss: 0.1017 - accuracy: 0.9589 - val_loss: 0.1502 - val_accuracy: 0.9412\n",
      "Epoch 25/35\n",
      "187/187 [==============================] - 59s 316ms/step - loss: 0.0960 - accuracy: 0.9617 - val_loss: 0.1723 - val_accuracy: 0.9265\n",
      "Epoch 26/35\n",
      "187/187 [==============================] - 59s 317ms/step - loss: 0.0843 - accuracy: 0.9682 - val_loss: 0.1480 - val_accuracy: 0.9412\n",
      "Epoch 27/35\n",
      "187/187 [==============================] - 59s 316ms/step - loss: 0.0976 - accuracy: 0.9624 - val_loss: 0.1369 - val_accuracy: 0.9505\n",
      "Epoch 28/35\n",
      "187/187 [==============================] - 59s 315ms/step - loss: 0.0755 - accuracy: 0.9743 - val_loss: 0.2032 - val_accuracy: 0.9158\n",
      "Epoch 29/35\n",
      "187/187 [==============================] - 59s 315ms/step - loss: 0.0793 - accuracy: 0.9713 - val_loss: 0.1979 - val_accuracy: 0.9365\n",
      "Epoch 30/35\n",
      "187/187 [==============================] - 59s 315ms/step - loss: 0.0666 - accuracy: 0.9761 - val_loss: 0.1311 - val_accuracy: 0.9512\n",
      "Epoch 31/35\n",
      "187/187 [==============================] - 59s 314ms/step - loss: 0.0758 - accuracy: 0.9713 - val_loss: 0.1405 - val_accuracy: 0.9485\n",
      "Epoch 32/35\n",
      "187/187 [==============================] - 59s 315ms/step - loss: 0.0712 - accuracy: 0.9731 - val_loss: 0.1244 - val_accuracy: 0.9566\n",
      "Epoch 33/35\n",
      "187/187 [==============================] - 59s 315ms/step - loss: 0.0715 - accuracy: 0.9741 - val_loss: 0.1484 - val_accuracy: 0.9525\n",
      "Epoch 34/35\n",
      "187/187 [==============================] - 59s 315ms/step - loss: 0.0621 - accuracy: 0.9784 - val_loss: 0.1260 - val_accuracy: 0.9519\n",
      "Epoch 35/35\n",
      "187/187 [==============================] - 59s 315ms/step - loss: 0.0586 - accuracy: 0.9783 - val_loss: 0.1346 - val_accuracy: 0.9592\n",
      "Training Completed!\n",
      "Time Elapsed in seconds 2082.1865276999997\n"
     ]
    }
   ],
   "source": [
    "from timeit import default_timer as timer\n",
    "start = timer()\n",
    "\n",
    "\n",
    " \n",
    "\n",
    "history =classifier.fit_generator(training_set,                         \n",
    "                         epochs = 35,\n",
    "                         validation_data = test_set\n",
    "                         )\n",
    "\n",
    "end = timer() \n",
    "print('Training Completed!')\n",
    "print(\"Time Elapsed in seconds\",  (end - start))"
   ]
  },
  {
   "cell_type": "code",
   "execution_count": 8,
   "metadata": {},
   "outputs": [
    {
     "name": "stdout",
     "output_type": "stream",
     "text": [
      "dict_keys(['loss', 'accuracy', 'val_loss', 'val_accuracy'])\n"
     ]
    },
    {
     "data": {
      "image/png": "[encoded data removed]",
      "text/plain": [
       "<Figure size 432x288 with 1 Axes>"
      ]
     },
     "metadata": {
      "needs_background": "light"
     },
     "output_type": "display_data"
    },
    {
     "data": {
      "image/png": "[encoded data removed]",
      "text/plain": [
       "<Figure size 432x288 with 1 Axes>"
      ]
     },
     "metadata": {
      "needs_background": "light"
     },
     "output_type": "display_data"
    }
   ],
   "source": [
    "import matplotlib.pyplot as plt\n",
    "# list all data in history\n",
    "print(history.history.keys())\n",
    "# summarize history for accuracy\n",
    "plt.plot(history.history['accuracy'])\n",
    "plt.plot(history.history['val_accuracy'])\n",
    "plt.title('model accuracy')\n",
    "plt.ylabel('accuracy')\n",
    "plt.xlabel('epoch')\n",
    "plt.legend(['train', 'test'], loc='upper left')\n",
    "plt.show()\n",
    "# summarize history for loss\n",
    "plt.plot(history.history['loss'])\n",
    "plt.plot(history.history['val_loss'])\n",
    "plt.title('model loss')\n",
    "plt.ylabel('loss')\n",
    "\n",
    "\n",
    "\n",
    "plt.xlabel('epoch')\n",
    "plt.legend(['train', 'test'], loc='upper left')\n",
    "plt.show()\n"
   ]
  },
  {
   "cell_type": "code",
   "execution_count": 9,
   "metadata": {},
   "outputs": [
    {
     "name": "stdout",
     "output_type": "stream",
     "text": [
      "Model: \"sequential\"\n",
      "_________________________________________________________________\n",
      "Layer (type)                 Output Shape              Param #   \n",
      "=================================================================\n",
      "conv2d (Conv2D)              (None, 222, 222, 64)      1792      \n",
      "_________________________________________________________________\n",
      "max_pooling2d (MaxPooling2D) (None, 111, 111, 64)      0         \n",
      "_________________________________________________________________\n",
      "conv2d_1 (Conv2D)            (None, 109, 109, 64)      36928     \n",
      "_________________________________________________________________\n",
      "max_pooling2d_1 (MaxPooling2 (None, 54, 54, 64)        0         \n",
      "_________________________________________________________________\n",
      "conv2d_2 (Conv2D)            (None, 52, 52, 128)       73856     \n",
      "_________________________________________________________________\n",
      "max_pooling2d_2 (MaxPooling2 (None, 26, 26, 128)       0         \n",
      "_________________________________________________________________\n",
      "flatten (Flatten)            (None, 86528)             0         \n",
      "_________________________________________________________________\n",
      "dense (Dense)                (None, 128)               11075712  \n",
      "_________________________________________________________________\n",
      "dense_1 (Dense)              (None, 1)                 129       \n",
      "=================================================================\n",
      "Total params: 11,188,417\n",
      "Trainable params: 11,188,417\n",
      "Non-trainable params: 0\n",
      "_________________________________________________________________\n",
      "Saved model to disk\n"
     ]
    }
   ],
   "source": [
    "# save model and architecture to single file\n",
    "classifier.save('Best Optimizer.h5')\n",
    "classifier.summary()\n",
    "\n",
    "print(\"Saved model to disk\")"
   ]
  },
  {
   "cell_type": "code",
   "execution_count": null,
   "metadata": {},
   "outputs": [],
   "source": []
  }
 ],
 "metadata": {
  "kernelspec": {
   "display_name": "gpu",
   "language": "python",
   "name": "gpu"
  },
  "language_info": {
   "codemirror_mode": {
    "name": "ipython",
    "version": 3
   },
   "file_extension": ".py",
   "mimetype": "text/x-python",
   "name": "python",
   "nbconvert_exporter": "python",
   "pygments_lexer": "ipython3",
   "version": "3.6.13"
  }
 },
 "nbformat": 4,
 "nbformat_minor": 4
}
