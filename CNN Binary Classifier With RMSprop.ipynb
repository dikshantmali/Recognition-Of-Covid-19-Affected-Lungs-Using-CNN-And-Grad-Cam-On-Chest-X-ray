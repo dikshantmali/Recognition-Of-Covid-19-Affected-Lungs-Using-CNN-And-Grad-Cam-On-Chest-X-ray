{
 "cells": [
  {
   "cell_type": "code",
   "execution_count": 14,
   "metadata": {},
   "outputs": [],
   "source": [
    "from tensorflow import keras\n",
    "from tensorflow.keras.models import Sequential\n",
    "from tensorflow.keras.layers import Conv2D\n",
    "from tensorflow.keras.layers import MaxPooling2D\n",
    "from tensorflow.keras.layers import Flatten\n",
    "from tensorflow.keras.layers import Dense"
   ]
  },
  {
   "cell_type": "code",
   "execution_count": 15,
   "metadata": {},
   "outputs": [
    {
     "name": "stdout",
     "output_type": "stream",
     "text": [
      "Found 5984 images belonging to 2 classes.\n",
      "Found 1496 images belonging to 2 classes.\n"
     ]
    }
   ],
   "source": [
    "# Part 2 - Fitting the CNN to the images\n",
    "\n",
    "from tensorflow.keras.preprocessing.image import ImageDataGenerator\n",
    "\n",
    "train_datagen = ImageDataGenerator(rescale = 1./255,\n",
    "                                   shear_range = 0.2,\n",
    "                                   zoom_range = 0.2,\n",
    "                                   horizontal_flip = True)\n",
    "\n",
    "test_datagen = ImageDataGenerator(rescale = 1./255)\n",
    "\n",
    "training_set = train_datagen.flow_from_directory('main dataset/train',\n",
    "                                                 target_size = (64, 64),\n",
    "                                                 batch_size = 32,\n",
    "                                                 class_mode = 'binary')\n",
    "\n",
    "test_set = test_datagen.flow_from_directory('main dataset/test',\n",
    "                                            target_size = (64, 64),\n",
    "                                            batch_size = 32,\n",
    "                                            class_mode = 'binary')"
   ]
  },
  {
   "cell_type": "code",
   "execution_count": 16,
   "metadata": {},
   "outputs": [
    {
     "data": {
      "text/plain": [
       "{'covid': 0, 'normal': 1}"
      ]
     },
     "execution_count": 16,
     "metadata": {},
     "output_type": "execute_result"
    }
   ],
   "source": [
    "training_set.class_indices"
   ]
  },
  {
   "cell_type": "code",
   "execution_count": 17,
   "metadata": {},
   "outputs": [],
   "source": [
    "# Initialising the CNN\n",
    "classifier = Sequential()\n",
    "\n",
    "# Step 1 - Convolution\n",
    "classifier.add(Conv2D(32, (3, 3), input_shape = (64, 64, 3), activation = 'relu'))\n",
    "\n",
    "# Step 2 - Pooling\n",
    "classifier.add(MaxPooling2D(pool_size = (2, 2)))\n",
    "\n",
    "# Adding a second convolutional layer\n",
    "classifier.add(Conv2D(32, (3, 3), activation = 'relu'))\n",
    "classifier.add(MaxPooling2D(pool_size = (2, 2)))\n",
    "\n",
    "# Step 3 - Flattening\n",
    "classifier.add(Flatten())\n",
    "\n",
    "# Step 4 - Full connection\n",
    "classifier.add(Dense(units = 128, activation = 'relu'))\n",
    "classifier.add(Dense(units = 1, activation = 'sigmoid'))\n",
    "\n",
    "# Compiling the CNN\n",
    "classifier.compile(optimizer = 'RMSprop', loss = 'binary_crossentropy', metrics = ['accuracy'])\n"
   ]
  },
  {
   "cell_type": "code",
   "execution_count": 18,
   "metadata": {},
   "outputs": [
    {
     "name": "stdout",
     "output_type": "stream",
     "text": [
      "Model: \"sequential_3\"\n",
      "_________________________________________________________________\n",
      "Layer (type)                 Output Shape              Param #   \n",
      "=================================================================\n",
      "conv2d_6 (Conv2D)            (None, 62, 62, 32)        896       \n",
      "_________________________________________________________________\n",
      "max_pooling2d_6 (MaxPooling2 (None, 31, 31, 32)        0         \n",
      "_________________________________________________________________\n",
      "conv2d_7 (Conv2D)            (None, 29, 29, 32)        9248      \n",
      "_________________________________________________________________\n",
      "max_pooling2d_7 (MaxPooling2 (None, 14, 14, 32)        0         \n",
      "_________________________________________________________________\n",
      "flatten_3 (Flatten)          (None, 6272)              0         \n",
      "_________________________________________________________________\n",
      "dense_6 (Dense)              (None, 128)               802944    \n",
      "_________________________________________________________________\n",
      "dense_7 (Dense)              (None, 1)                 129       \n",
      "=================================================================\n",
      "Total params: 813,217\n",
      "Trainable params: 813,217\n",
      "Non-trainable params: 0\n",
      "_________________________________________________________________\n"
     ]
    }
   ],
   "source": [
    "classifier.summary()"
   ]
  },
  {
   "cell_type": "code",
   "execution_count": 19,
   "metadata": {},
   "outputs": [
    {
     "name": "stdout",
     "output_type": "stream",
     "text": [
      "Epoch 1/35\n",
      "187/187 [==============================] - 20s 105ms/step - loss: 0.5589 - accuracy: 0.7174 - val_loss: 0.6597 - val_accuracy: 0.6183\n",
      "Epoch 2/35\n",
      "187/187 [==============================] - 17s 92ms/step - loss: 0.4418 - accuracy: 0.7913 - val_loss: 0.7914 - val_accuracy: 0.6290\n",
      "Epoch 3/35\n",
      "187/187 [==============================] - 17s 92ms/step - loss: 0.3855 - accuracy: 0.8215 - val_loss: 0.6474 - val_accuracy: 0.6698\n",
      "Epoch 4/35\n",
      "187/187 [==============================] - 17s 93ms/step - loss: 0.3589 - accuracy: 0.8386 - val_loss: 0.6511 - val_accuracy: 0.6985\n",
      "Epoch 5/35\n",
      "187/187 [==============================] - 17s 92ms/step - loss: 0.3418 - accuracy: 0.8456 - val_loss: 0.5030 - val_accuracy: 0.7473\n",
      "Epoch 6/35\n",
      "187/187 [==============================] - 17s 92ms/step - loss: 0.3222 - accuracy: 0.8571 - val_loss: 0.5543 - val_accuracy: 0.7213\n",
      "Epoch 7/35\n",
      "187/187 [==============================] - 17s 92ms/step - loss: 0.3121 - accuracy: 0.8606 - val_loss: 0.4512 - val_accuracy: 0.7620\n",
      "Epoch 8/35\n",
      "187/187 [==============================] - 17s 92ms/step - loss: 0.3028 - accuracy: 0.8656 - val_loss: 0.5332 - val_accuracy: 0.7106\n",
      "Epoch 9/35\n",
      "187/187 [==============================] - 18s 94ms/step - loss: 0.2844 - accuracy: 0.8732 - val_loss: 0.5503 - val_accuracy: 0.7139\n",
      "Epoch 10/35\n",
      "187/187 [==============================] - 17s 93ms/step - loss: 0.2725 - accuracy: 0.8832 - val_loss: 0.4014 - val_accuracy: 0.8235\n",
      "Epoch 11/35\n",
      "187/187 [==============================] - 17s 92ms/step - loss: 0.2680 - accuracy: 0.8880 - val_loss: 0.4099 - val_accuracy: 0.7995\n",
      "Epoch 12/35\n",
      "187/187 [==============================] - 17s 91ms/step - loss: 0.2536 - accuracy: 0.8882 - val_loss: 0.5086 - val_accuracy: 0.7647\n",
      "Epoch 13/35\n",
      "187/187 [==============================] - 17s 93ms/step - loss: 0.2537 - accuracy: 0.8915 - val_loss: 0.3786 - val_accuracy: 0.8229\n",
      "Epoch 14/35\n",
      "187/187 [==============================] - 18s 95ms/step - loss: 0.2410 - accuracy: 0.8969 - val_loss: 0.4006 - val_accuracy: 0.8175\n",
      "Epoch 15/35\n",
      "187/187 [==============================] - 17s 93ms/step - loss: 0.2248 - accuracy: 0.9041 - val_loss: 0.4331 - val_accuracy: 0.7928\n",
      "Epoch 16/35\n",
      "187/187 [==============================] - 17s 93ms/step - loss: 0.2220 - accuracy: 0.9081 - val_loss: 0.3141 - val_accuracy: 0.8603\n",
      "Epoch 17/35\n",
      "187/187 [==============================] - 17s 92ms/step - loss: 0.2142 - accuracy: 0.9079 - val_loss: 0.3195 - val_accuracy: 0.8603\n",
      "Epoch 18/35\n",
      "187/187 [==============================] - 18s 94ms/step - loss: 0.2143 - accuracy: 0.9118 - val_loss: 0.2894 - val_accuracy: 0.8803\n",
      "Epoch 19/35\n",
      "187/187 [==============================] - 17s 93ms/step - loss: 0.2105 - accuracy: 0.9144 - val_loss: 0.2845 - val_accuracy: 0.8790\n",
      "Epoch 20/35\n",
      "187/187 [==============================] - 17s 93ms/step - loss: 0.2027 - accuracy: 0.9195 - val_loss: 0.2907 - val_accuracy: 0.8850\n",
      "Epoch 21/35\n",
      "187/187 [==============================] - 18s 98ms/step - loss: 0.1938 - accuracy: 0.9230 - val_loss: 0.2851 - val_accuracy: 0.8817\n",
      "Epoch 22/35\n",
      "187/187 [==============================] - 18s 96ms/step - loss: 0.1977 - accuracy: 0.9184 - val_loss: 0.2551 - val_accuracy: 0.9057\n",
      "Epoch 23/35\n",
      "187/187 [==============================] - 18s 95ms/step - loss: 0.1860 - accuracy: 0.9253 - val_loss: 0.2835 - val_accuracy: 0.8984\n",
      "Epoch 24/35\n",
      "187/187 [==============================] - 18s 94ms/step - loss: 0.1767 - accuracy: 0.9298 - val_loss: 0.3395 - val_accuracy: 0.8683\n",
      "Epoch 25/35\n",
      "187/187 [==============================] - 18s 95ms/step - loss: 0.1818 - accuracy: 0.9256 - val_loss: 0.2191 - val_accuracy: 0.9191\n",
      "Epoch 26/35\n",
      "187/187 [==============================] - 18s 94ms/step - loss: 0.1754 - accuracy: 0.9280 - val_loss: 0.3481 - val_accuracy: 0.8656\n",
      "Epoch 27/35\n",
      "187/187 [==============================] - 18s 95ms/step - loss: 0.1780 - accuracy: 0.9328 - val_loss: 0.2491 - val_accuracy: 0.9118\n",
      "Epoch 28/35\n",
      "187/187 [==============================] - 18s 97ms/step - loss: 0.1782 - accuracy: 0.9248 - val_loss: 0.2912 - val_accuracy: 0.8897\n",
      "Epoch 29/35\n",
      "187/187 [==============================] - 18s 96ms/step - loss: 0.1680 - accuracy: 0.9358 - val_loss: 0.2308 - val_accuracy: 0.9211\n",
      "Epoch 30/35\n",
      "187/187 [==============================] - 18s 95ms/step - loss: 0.1702 - accuracy: 0.9355 - val_loss: 0.2562 - val_accuracy: 0.9084\n",
      "Epoch 31/35\n",
      "187/187 [==============================] - 17s 93ms/step - loss: 0.1584 - accuracy: 0.9400 - val_loss: 0.2384 - val_accuracy: 0.9144\n",
      "Epoch 32/35\n",
      "187/187 [==============================] - 18s 96ms/step - loss: 0.1601 - accuracy: 0.9395 - val_loss: 0.2418 - val_accuracy: 0.9225\n",
      "Epoch 33/35\n",
      "187/187 [==============================] - 18s 94ms/step - loss: 0.1543 - accuracy: 0.9395 - val_loss: 0.2110 - val_accuracy: 0.9285\n",
      "Epoch 34/35\n",
      "187/187 [==============================] - 25s 134ms/step - loss: 0.1515 - accuracy: 0.9439 - val_loss: 0.2680 - val_accuracy: 0.9017\n",
      "Epoch 35/35\n",
      "187/187 [==============================] - 20s 106ms/step - loss: 0.1442 - accuracy: 0.9457 - val_loss: 0.2083 - val_accuracy: 0.9325\n",
      "Training Completed!\n",
      "Time Elapsed in seconds 629.0553805000001\n"
     ]
    }
   ],
   "source": [
    "from timeit import default_timer as timer\n",
    "start = timer()\n",
    "\n",
    "\n",
    " \n",
    "\n",
    "history =classifier.fit_generator(training_set,                         \n",
    "                         epochs = 35,\n",
    "                         validation_data = test_set\n",
    "                         )\n",
    "\n",
    "end = timer() \n",
    "print('Training Completed!')\n",
    "print(\"Time Elapsed in seconds\",  (end - start))"
   ]
  },
  {
   "cell_type": "code",
   "execution_count": 20,
   "metadata": {},
   "outputs": [
    {
     "name": "stdout",
     "output_type": "stream",
     "text": [
      "dict_keys(['loss', 'accuracy', 'val_loss', 'val_accuracy'])\n"
     ]
    },
    {
     "data": {
      "image/png": "[encoded data removed]",
      "text/plain": [
       "<Figure size 432x288 with 1 Axes>"
      ]
     },
     "metadata": {
      "needs_background": "light"
     },
     "output_type": "display_data"
    },
    {
     "data": {
      "image/png": "[encoded data removed]",
      "text/plain": [
       "<Figure size 432x288 with 1 Axes>"
      ]
     },
     "metadata": {
      "needs_background": "light"
     },
     "output_type": "display_data"
    }
   ],
   "source": [
    "import matplotlib.pyplot as plt\n",
    "# list all data in history\n",
    "print(history.history.keys())\n",
    "# summarize history for accuracy\n",
    "plt.plot(history.history['accuracy'])\n",
    "plt.plot(history.history['val_accuracy'])\n",
    "plt.title('model accuracy')\n",
    "plt.ylabel('accuracy')\n",
    "plt.xlabel('epoch')\n",
    "plt.legend(['train', 'test'], loc='upper left')\n",
    "plt.show()\n",
    "# summarize history for loss\n",
    "plt.plot(history.history['loss'])\n",
    "plt.plot(history.history['val_loss'])\n",
    "plt.title('model loss')\n",
    "plt.ylabel('loss')\n",
    "\n",
    "\n",
    "\n",
    "plt.xlabel('epoch')\n",
    "plt.legend(['train', 'test'], loc='upper left')\n",
    "plt.show()\n"
   ]
  },
  {
   "cell_type": "code",
   "execution_count": 22,
   "metadata": {},
   "outputs": [
    {
     "name": "stdout",
     "output_type": "stream",
     "text": [
      "Model: \"sequential_3\"\n",
      "_________________________________________________________________\n",
      "Layer (type)                 Output Shape              Param #   \n",
      "=================================================================\n",
      "conv2d_6 (Conv2D)            (None, 62, 62, 32)        896       \n",
      "_________________________________________________________________\n",
      "max_pooling2d_6 (MaxPooling2 (None, 31, 31, 32)        0         \n",
      "_________________________________________________________________\n",
      "conv2d_7 (Conv2D)            (None, 29, 29, 32)        9248      \n",
      "_________________________________________________________________\n",
      "max_pooling2d_7 (MaxPooling2 (None, 14, 14, 32)        0         \n",
      "_________________________________________________________________\n",
      "flatten_3 (Flatten)          (None, 6272)              0         \n",
      "_________________________________________________________________\n",
      "dense_6 (Dense)              (None, 128)               802944    \n",
      "_________________________________________________________________\n",
      "dense_7 (Dense)              (None, 1)                 129       \n",
      "=================================================================\n",
      "Total params: 813,217\n",
      "Trainable params: 813,217\n",
      "Non-trainable params: 0\n",
      "_________________________________________________________________\n",
      "Saved model to disk\n"
     ]
    }
   ],
   "source": [
    "# save model and architecture to single file\n",
    "classifier.save('CNN Binary Classifier With RMSprop.h5')\n",
    "classifier.summary()\n",
    "\n",
    "print(\"Saved model to disk\")"
   ]
  },
  {
   "cell_type": "code",
   "execution_count": null,
   "metadata": {},
   "outputs": [],
   "source": []
  }
 ],
 "metadata": {
  "kernelspec": {
   "display_name": "gpu",
   "language": "python",
   "name": "gpu"
  },
  "language_info": {
   "codemirror_mode": {
    "name": "ipython",
    "version": 3
   },
   "file_extension": ".py",
   "mimetype": "text/x-python",
   "name": "python",
   "nbconvert_exporter": "python",
   "pygments_lexer": "ipython3",
   "version": "3.6.13"
  }
 },
 "nbformat": 4,
 "nbformat_minor": 4
}
