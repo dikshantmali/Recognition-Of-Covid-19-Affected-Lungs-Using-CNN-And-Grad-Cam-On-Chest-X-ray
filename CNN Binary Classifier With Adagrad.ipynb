{
 "cells": [
  {
   "cell_type": "code",
   "execution_count": 1,
   "metadata": {},
   "outputs": [],
   "source": [
    "from tensorflow import keras\n",
    "from tensorflow.keras.models import Sequential\n",
    "from tensorflow.keras.layers import Conv2D\n",
    "from tensorflow.keras.layers import MaxPooling2D\n",
    "from tensorflow.keras.layers import Flatten\n",
    "from tensorflow.keras.layers import Dense"
   ]
  },
  {
   "cell_type": "code",
   "execution_count": 2,
   "metadata": {},
   "outputs": [
    {
     "name": "stdout",
     "output_type": "stream",
     "text": [
      "Found 5984 images belonging to 2 classes.\n",
      "Found 1496 images belonging to 2 classes.\n"
     ]
    }
   ],
   "source": [
    "# Part 2 - Fitting the CNN to the images\n",
    "\n",
    "from tensorflow.keras.preprocessing.image import ImageDataGenerator\n",
    "\n",
    "train_datagen = ImageDataGenerator(rescale = 1./255,\n",
    "                                   shear_range = 0.2,\n",
    "                                   zoom_range = 0.2,\n",
    "                                   horizontal_flip = True)\n",
    "\n",
    "test_datagen = ImageDataGenerator(rescale = 1./255)\n",
    "\n",
    "training_set = train_datagen.flow_from_directory('main dataset/train',\n",
    "                                                 target_size = (64, 64),\n",
    "                                                 batch_size = 32,\n",
    "                                                 class_mode = 'binary')\n",
    "\n",
    "test_set = test_datagen.flow_from_directory('main dataset/test',\n",
    "                                            target_size = (64, 64),\n",
    "                                            batch_size = 32,\n",
    "                                            class_mode = 'binary')"
   ]
  },
  {
   "cell_type": "code",
   "execution_count": 3,
   "metadata": {},
   "outputs": [],
   "source": [
    "# Initialising the CNN\n",
    "classifier = Sequential()\n",
    "\n",
    "# Step 1 - Convolution\n",
    "classifier.add(Conv2D(32, (3, 3), input_shape = (64, 64, 3), activation = 'relu'))\n",
    "\n",
    "# Step 2 - Pooling\n",
    "classifier.add(MaxPooling2D(pool_size = (2, 2)))\n",
    "\n",
    "# Adding a second convolutional layer\n",
    "classifier.add(Conv2D(32, (3, 3), activation = 'relu'))\n",
    "classifier.add(MaxPooling2D(pool_size = (2, 2)))\n",
    "\n",
    "# Step 3 - Flattening\n",
    "classifier.add(Flatten())\n",
    "\n",
    "# Step 4 - Full connection\n",
    "classifier.add(Dense(units = 128, activation = 'relu'))\n",
    "classifier.add(Dense(units = 1, activation = 'sigmoid'))\n",
    "\n",
    "# Compiling the CNN\n",
    "classifier.compile(optimizer = 'Adagrad', loss = 'binary_crossentropy', metrics = ['accuracy'])\n"
   ]
  },
  {
   "cell_type": "code",
   "execution_count": 4,
   "metadata": {},
   "outputs": [
    {
     "name": "stdout",
     "output_type": "stream",
     "text": [
      "Model: \"sequential\"\n",
      "_________________________________________________________________\n",
      "Layer (type)                 Output Shape              Param #   \n",
      "=================================================================\n",
      "conv2d (Conv2D)              (None, 62, 62, 32)        896       \n",
      "_________________________________________________________________\n",
      "max_pooling2d (MaxPooling2D) (None, 31, 31, 32)        0         \n",
      "_________________________________________________________________\n",
      "conv2d_1 (Conv2D)            (None, 29, 29, 32)        9248      \n",
      "_________________________________________________________________\n",
      "max_pooling2d_1 (MaxPooling2 (None, 14, 14, 32)        0         \n",
      "_________________________________________________________________\n",
      "flatten (Flatten)            (None, 6272)              0         \n",
      "_________________________________________________________________\n",
      "dense (Dense)                (None, 128)               802944    \n",
      "_________________________________________________________________\n",
      "dense_1 (Dense)              (None, 1)                 129       \n",
      "=================================================================\n",
      "Total params: 813,217\n",
      "Trainable params: 813,217\n",
      "Non-trainable params: 0\n",
      "_________________________________________________________________\n"
     ]
    }
   ],
   "source": [
    "classifier.summary()"
   ]
  },
  {
   "cell_type": "code",
   "execution_count": 5,
   "metadata": {},
   "outputs": [
    {
     "name": "stdout",
     "output_type": "stream",
     "text": [
      "WARNING:tensorflow:From <ipython-input-5-de6c5e7d6df6>:9: Model.fit_generator (from tensorflow.python.keras.engine.training) is deprecated and will be removed in a future version.\n",
      "Instructions for updating:\n",
      "Please use Model.fit, which supports generators.\n",
      "Epoch 1/35\n",
      "187/187 [==============================] - 27s 144ms/step - loss: 0.6714 - accuracy: 0.6270 - val_loss: 0.6886 - val_accuracy: 0.5508\n",
      "Epoch 2/35\n",
      "187/187 [==============================] - 18s 95ms/step - loss: 0.6217 - accuracy: 0.7077 - val_loss: 0.6815 - val_accuracy: 0.5635\n",
      "Epoch 3/35\n",
      "187/187 [==============================] - 17s 92ms/step - loss: 0.5751 - accuracy: 0.7228 - val_loss: 0.6734 - val_accuracy: 0.5876\n",
      "Epoch 4/35\n",
      "187/187 [==============================] - 17s 91ms/step - loss: 0.5407 - accuracy: 0.7373 - val_loss: 0.6695 - val_accuracy: 0.6070\n",
      "Epoch 5/35\n",
      "187/187 [==============================] - 17s 92ms/step - loss: 0.5245 - accuracy: 0.7487 - val_loss: 0.6582 - val_accuracy: 0.6156\n",
      "Epoch 6/35\n",
      "187/187 [==============================] - 17s 93ms/step - loss: 0.5141 - accuracy: 0.7533 - val_loss: 0.6574 - val_accuracy: 0.6217\n",
      "Epoch 7/35\n",
      "187/187 [==============================] - 17s 92ms/step - loss: 0.5067 - accuracy: 0.7580 - val_loss: 0.6731 - val_accuracy: 0.6096\n",
      "Epoch 8/35\n",
      "187/187 [==============================] - 17s 92ms/step - loss: 0.4976 - accuracy: 0.7547 - val_loss: 0.6746 - val_accuracy: 0.6156\n",
      "Epoch 9/35\n",
      "187/187 [==============================] - 17s 92ms/step - loss: 0.4970 - accuracy: 0.7564 - val_loss: 0.6563 - val_accuracy: 0.6277\n",
      "Epoch 10/35\n",
      "187/187 [==============================] - 17s 91ms/step - loss: 0.4826 - accuracy: 0.7709 - val_loss: 0.6713 - val_accuracy: 0.6197\n",
      "Epoch 11/35\n",
      "187/187 [==============================] - 17s 91ms/step - loss: 0.4800 - accuracy: 0.7734 - val_loss: 0.6460 - val_accuracy: 0.6270\n",
      "Epoch 12/35\n",
      "187/187 [==============================] - 17s 91ms/step - loss: 0.4756 - accuracy: 0.7702 - val_loss: 0.6524 - val_accuracy: 0.6324\n",
      "Epoch 13/35\n",
      "187/187 [==============================] - 17s 92ms/step - loss: 0.4642 - accuracy: 0.7829 - val_loss: 0.6521 - val_accuracy: 0.6330\n",
      "Epoch 14/35\n",
      "187/187 [==============================] - 17s 92ms/step - loss: 0.4649 - accuracy: 0.7797 - val_loss: 0.6410 - val_accuracy: 0.6344\n",
      "Epoch 15/35\n",
      "187/187 [==============================] - 17s 92ms/step - loss: 0.4550 - accuracy: 0.7863 - val_loss: 0.6338 - val_accuracy: 0.6324\n",
      "Epoch 16/35\n",
      "187/187 [==============================] - 17s 91ms/step - loss: 0.4559 - accuracy: 0.7818 - val_loss: 0.6431 - val_accuracy: 0.6410\n",
      "Epoch 17/35\n",
      "187/187 [==============================] - 17s 91ms/step - loss: 0.4461 - accuracy: 0.7941 - val_loss: 0.6482 - val_accuracy: 0.6110\n",
      "Epoch 18/35\n",
      "187/187 [==============================] - 17s 91ms/step - loss: 0.4463 - accuracy: 0.7953 - val_loss: 0.6262 - val_accuracy: 0.6324\n",
      "Epoch 19/35\n",
      "187/187 [==============================] - 17s 91ms/step - loss: 0.4373 - accuracy: 0.7965 - val_loss: 0.6380 - val_accuracy: 0.6116\n",
      "Epoch 20/35\n",
      "187/187 [==============================] - 17s 91ms/step - loss: 0.4382 - accuracy: 0.7914 - val_loss: 0.6278 - val_accuracy: 0.6290\n",
      "Epoch 21/35\n",
      "187/187 [==============================] - 17s 91ms/step - loss: 0.4390 - accuracy: 0.7971 - val_loss: 0.6385 - val_accuracy: 0.6497\n",
      "Epoch 22/35\n",
      "187/187 [==============================] - 17s 91ms/step - loss: 0.4281 - accuracy: 0.7958 - val_loss: 0.6292 - val_accuracy: 0.6364\n",
      "Epoch 23/35\n",
      "187/187 [==============================] - 17s 91ms/step - loss: 0.4262 - accuracy: 0.8016 - val_loss: 0.6348 - val_accuracy: 0.6484\n",
      "Epoch 24/35\n",
      "187/187 [==============================] - 17s 91ms/step - loss: 0.4219 - accuracy: 0.8063 - val_loss: 0.6273 - val_accuracy: 0.6477\n",
      "Epoch 25/35\n",
      "187/187 [==============================] - 17s 91ms/step - loss: 0.4221 - accuracy: 0.8025 - val_loss: 0.6182 - val_accuracy: 0.6477\n",
      "Epoch 26/35\n",
      "187/187 [==============================] - 17s 91ms/step - loss: 0.4170 - accuracy: 0.8070 - val_loss: 0.6397 - val_accuracy: 0.6123\n",
      "Epoch 27/35\n",
      "187/187 [==============================] - 17s 92ms/step - loss: 0.4184 - accuracy: 0.8035 - val_loss: 0.6107 - val_accuracy: 0.6417\n",
      "Epoch 28/35\n",
      "187/187 [==============================] - 18s 95ms/step - loss: 0.4089 - accuracy: 0.8082 - val_loss: 0.6118 - val_accuracy: 0.6350\n",
      "Epoch 29/35\n",
      "187/187 [==============================] - 18s 95ms/step - loss: 0.4107 - accuracy: 0.8077 - val_loss: 0.6120 - val_accuracy: 0.6457\n",
      "Epoch 30/35\n",
      "187/187 [==============================] - 18s 95ms/step - loss: 0.4062 - accuracy: 0.8157 - val_loss: 0.6190 - val_accuracy: 0.6243\n",
      "Epoch 31/35\n",
      "187/187 [==============================] - 17s 93ms/step - loss: 0.4097 - accuracy: 0.8115 - val_loss: 0.6058 - val_accuracy: 0.6384\n",
      "Epoch 32/35\n",
      "187/187 [==============================] - 17s 92ms/step - loss: 0.4070 - accuracy: 0.8080 - val_loss: 0.5968 - val_accuracy: 0.6497\n",
      "Epoch 33/35\n",
      "187/187 [==============================] - 17s 92ms/step - loss: 0.4027 - accuracy: 0.8102 - val_loss: 0.5974 - val_accuracy: 0.6451\n",
      "Epoch 34/35\n",
      "187/187 [==============================] - 17s 92ms/step - loss: 0.3974 - accuracy: 0.8200 - val_loss: 0.6038 - val_accuracy: 0.6551\n",
      "Epoch 35/35\n",
      "187/187 [==============================] - 18s 95ms/step - loss: 0.3986 - accuracy: 0.8175 - val_loss: 0.5995 - val_accuracy: 0.6457\n",
      "Training Completed!\n",
      "Time Elapsed in seconds 618.4516762999999\n"
     ]
    }
   ],
   "source": [
    "from timeit import default_timer as timer\n",
    "start = timer()\n",
    "\n",
    "\n",
    " \n",
    "\n",
    "history =classifier.fit_generator(training_set,                         \n",
    "                         epochs = 35,\n",
    "                         validation_data = test_set\n",
    "                         )\n",
    "\n",
    "end = timer() \n",
    "print('Training Completed!')\n",
    "print(\"Time Elapsed in seconds\",  (end - start))"
   ]
  },
  {
   "cell_type": "code",
   "execution_count": 6,
   "metadata": {},
   "outputs": [
    {
     "name": "stdout",
     "output_type": "stream",
     "text": [
      "dict_keys(['loss', 'accuracy', 'val_loss', 'val_accuracy'])\n"
     ]
    },
    {
     "data": {
      "image/png": "[encoded data removed]",
      "text/plain": [
       "<Figure size 432x288 with 1 Axes>"
      ]
     },
     "metadata": {
      "needs_background": "light"
     },
     "output_type": "display_data"
    },
    {
     "data": {
      "image/png": "[encoded data removed]",
      "text/plain": [
       "<Figure size 432x288 with 1 Axes>"
      ]
     },
     "metadata": {
      "needs_background": "light"
     },
     "output_type": "display_data"
    }
   ],
   "source": [
    "import matplotlib.pyplot as plt\n",
    "# list all data in history\n",
    "print(history.history.keys())\n",
    "# summarize history for accuracy\n",
    "plt.plot(history.history['accuracy'])\n",
    "plt.plot(history.history['val_accuracy'])\n",
    "plt.title('model accuracy')\n",
    "plt.ylabel('accuracy')\n",
    "plt.xlabel('epoch')\n",
    "plt.legend(['train', 'test'], loc='upper left')\n",
    "plt.show()\n",
    "# summarize history for loss\n",
    "plt.plot(history.history['loss'])\n",
    "plt.plot(history.history['val_loss'])\n",
    "plt.title('model loss')\n",
    "plt.ylabel('loss')\n",
    "\n",
    "\n",
    "\n",
    "plt.xlabel('epoch')\n",
    "plt.legend(['train', 'test'], loc='upper left')\n",
    "plt.show()\n"
   ]
  },
  {
   "cell_type": "code",
   "execution_count": 7,
   "metadata": {},
   "outputs": [
    {
     "name": "stdout",
     "output_type": "stream",
     "text": [
      "Model: \"sequential\"\n",
      "_________________________________________________________________\n",
      "Layer (type)                 Output Shape              Param #   \n",
      "=================================================================\n",
      "conv2d (Conv2D)              (None, 62, 62, 32)        896       \n",
      "_________________________________________________________________\n",
      "max_pooling2d (MaxPooling2D) (None, 31, 31, 32)        0         \n",
      "_________________________________________________________________\n",
      "conv2d_1 (Conv2D)            (None, 29, 29, 32)        9248      \n",
      "_________________________________________________________________\n",
      "max_pooling2d_1 (MaxPooling2 (None, 14, 14, 32)        0         \n",
      "_________________________________________________________________\n",
      "flatten (Flatten)            (None, 6272)              0         \n",
      "_________________________________________________________________\n",
      "dense (Dense)                (None, 128)               802944    \n",
      "_________________________________________________________________\n",
      "dense_1 (Dense)              (None, 1)                 129       \n",
      "=================================================================\n",
      "Total params: 813,217\n",
      "Trainable params: 813,217\n",
      "Non-trainable params: 0\n",
      "_________________________________________________________________\n",
      "Saved model to disk\n"
     ]
    }
   ],
   "source": [
    "# save model and architecture to single file\n",
    "classifier.save('CNN Binary Classifier With Adagrad.h5')\n",
    "classifier.summary()\n",
    "\n",
    "print(\"Saved model to disk\")"
   ]
  }
 ],
 "metadata": {
  "kernelspec": {
   "display_name": "gpu",
   "language": "python",
   "name": "gpu"
  },
  "language_info": {
   "codemirror_mode": {
    "name": "ipython",
    "version": 3
   },
   "file_extension": ".py",
   "mimetype": "text/x-python",
   "name": "python",
   "nbconvert_exporter": "python",
   "pygments_lexer": "ipython3",
   "version": "3.6.13"
  }
 },
 "nbformat": 4,
 "nbformat_minor": 4
}
