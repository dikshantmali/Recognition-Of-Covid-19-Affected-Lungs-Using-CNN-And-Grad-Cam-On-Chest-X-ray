{
 "cells": [
  {
   "cell_type": "code",
   "execution_count": 1,
   "metadata": {},
   "outputs": [],
   "source": [
    "from tensorflow import keras\n",
    "from tensorflow.keras.models import Sequential\n",
    "from tensorflow.keras.layers import Conv2D\n",
    "from tensorflow.keras.layers import MaxPooling2D\n",
    "from tensorflow.keras.layers import Flatten\n",
    "from tensorflow.keras.layers import Dense"
   ]
  },
  {
   "cell_type": "code",
   "execution_count": 2,
   "metadata": {},
   "outputs": [
    {
     "name": "stdout",
     "output_type": "stream",
     "text": [
      "Found 5984 images belonging to 2 classes.\n",
      "Found 1496 images belonging to 2 classes.\n"
     ]
    }
   ],
   "source": [
    "# Part 2 - Fitting the CNN to the images\n",
    "\n",
    "from tensorflow.keras.preprocessing.image import ImageDataGenerator\n",
    "\n",
    "train_datagen = ImageDataGenerator(rescale = 1./255,\n",
    "                                   shear_range = 0.2,\n",
    "                                   zoom_range = 0.2,\n",
    "                                   horizontal_flip = True)\n",
    "\n",
    "test_datagen = ImageDataGenerator(rescale = 1./255)\n",
    "\n",
    "training_set = train_datagen.flow_from_directory('main dataset/train',\n",
    "                                                 target_size = (64, 64),\n",
    "                                                 batch_size = 32,\n",
    "                                                 class_mode = 'binary')\n",
    "\n",
    "test_set = test_datagen.flow_from_directory('main dataset/test',\n",
    "                                            target_size = (64, 64),\n",
    "                                            batch_size = 32,\n",
    "                                            class_mode = 'binary')"
   ]
  },
  {
   "cell_type": "code",
   "execution_count": 3,
   "metadata": {},
   "outputs": [],
   "source": [
    "# Initialising the CNN\n",
    "classifier = Sequential()\n",
    "\n",
    "# Step 1 - Convolution\n",
    "classifier.add(Conv2D(32, (3, 3), input_shape = (64, 64, 3), activation = 'relu'))\n",
    "\n",
    "# Step 2 - Pooling\n",
    "classifier.add(MaxPooling2D(pool_size = (2, 2)))\n",
    "\n",
    "# Adding a second convolutional layer\n",
    "classifier.add(Conv2D(32, (3, 3), activation = 'relu'))\n",
    "classifier.add(MaxPooling2D(pool_size = (2, 2)))\n",
    "\n",
    "# Step 3 - Flattening\n",
    "classifier.add(Flatten())\n",
    "\n",
    "# Step 4 - Full connection\n",
    "classifier.add(Dense(units = 128, activation = 'relu'))\n",
    "classifier.add(Dense(units = 1, activation = 'sigmoid'))\n",
    "\n",
    "# Compiling the CNN\n",
    "classifier.compile(optimizer = 'Adagrad', loss = 'binary_crossentropy', metrics = ['accuracy'])\n"
   ]
  },
  {
   "cell_type": "code",
   "execution_count": 4,
   "metadata": {},
   "outputs": [
    {
     "name": "stdout",
     "output_type": "stream",
     "text": [
      "Model: \"sequential\"\n",
      "_________________________________________________________________\n",
      "Layer (type)                 Output Shape              Param #   \n",
      "=================================================================\n",
      "conv2d (Conv2D)              (None, 62, 62, 32)        896       \n",
      "_________________________________________________________________\n",
      "max_pooling2d (MaxPooling2D) (None, 31, 31, 32)        0         \n",
      "_________________________________________________________________\n",
      "conv2d_1 (Conv2D)            (None, 29, 29, 32)        9248      \n",
      "_________________________________________________________________\n",
      "max_pooling2d_1 (MaxPooling2 (None, 14, 14, 32)        0         \n",
      "_________________________________________________________________\n",
      "flatten (Flatten)            (None, 6272)              0         \n",
      "_________________________________________________________________\n",
      "dense (Dense)                (None, 128)               802944    \n",
      "_________________________________________________________________\n",
      "dense_1 (Dense)              (None, 1)                 129       \n",
      "=================================================================\n",
      "Total params: 813,217\n",
      "Trainable params: 813,217\n",
      "Non-trainable params: 0\n",
      "_________________________________________________________________\n"
     ]
    }
   ],
   "source": [
    "classifier.summary()"
   ]
  },
  {
   "cell_type": "code",
   "execution_count": 5,
   "metadata": {},
   "outputs": [
    {
     "name": "stdout",
     "output_type": "stream",
     "text": [
      "WARNING:tensorflow:From <ipython-input-5-de6c5e7d6df6>:9: Model.fit_generator (from tensorflow.python.keras.engine.training) is deprecated and will be removed in a future version.\n",
      "Instructions for updating:\n",
      "Please use Model.fit, which supports generators.\n",
      "Epoch 1/35\n",
      "187/187 [==============================] - 18s 96ms/step - loss: 0.6742 - accuracy: 0.6362 - val_loss: 0.6905 - val_accuracy: 0.5421\n",
      "Epoch 2/35\n",
      "187/187 [==============================] - 18s 94ms/step - loss: 0.6280 - accuracy: 0.7111 - val_loss: 0.6830 - val_accuracy: 0.5535\n",
      "Epoch 3/35\n",
      "187/187 [==============================] - 18s 95ms/step - loss: 0.5769 - accuracy: 0.7258 - val_loss: 0.6913 - val_accuracy: 0.5689\n",
      "Epoch 4/35\n",
      "187/187 [==============================] - 18s 95ms/step - loss: 0.5423 - accuracy: 0.7420 - val_loss: 0.6654 - val_accuracy: 0.5996\n",
      "Epoch 5/35\n",
      "187/187 [==============================] - 18s 95ms/step - loss: 0.5238 - accuracy: 0.7483 - val_loss: 0.6851 - val_accuracy: 0.6043\n",
      "Epoch 6/35\n",
      "187/187 [==============================] - 18s 94ms/step - loss: 0.5087 - accuracy: 0.7597 - val_loss: 0.6579 - val_accuracy: 0.6190\n",
      "Epoch 7/35\n",
      "187/187 [==============================] - 25s 135ms/step - loss: 0.5007 - accuracy: 0.7609 - val_loss: 0.6621 - val_accuracy: 0.6143\n",
      "Epoch 8/35\n",
      "187/187 [==============================] - 21s 113ms/step - loss: 0.4891 - accuracy: 0.7642 - val_loss: 0.6569 - val_accuracy: 0.6283\n",
      "Epoch 9/35\n",
      "187/187 [==============================] - 18s 96ms/step - loss: 0.4790 - accuracy: 0.7711 - val_loss: 0.6590 - val_accuracy: 0.6310\n",
      "Epoch 10/35\n",
      "187/187 [==============================] - 18s 95ms/step - loss: 0.4720 - accuracy: 0.7744 - val_loss: 0.6708 - val_accuracy: 0.6043\n",
      "Epoch 11/35\n",
      "187/187 [==============================] - 18s 96ms/step - loss: 0.4735 - accuracy: 0.7732 - val_loss: 0.6603 - val_accuracy: 0.6310\n",
      "Epoch 12/35\n",
      "187/187 [==============================] - 18s 96ms/step - loss: 0.4622 - accuracy: 0.7812 - val_loss: 0.6451 - val_accuracy: 0.6424\n",
      "Epoch 13/35\n",
      "187/187 [==============================] - 18s 97ms/step - loss: 0.4569 - accuracy: 0.7854 - val_loss: 0.6439 - val_accuracy: 0.6437\n",
      "Epoch 14/35\n",
      "187/187 [==============================] - 18s 96ms/step - loss: 0.4454 - accuracy: 0.7911 - val_loss: 0.6640 - val_accuracy: 0.6043\n",
      "Epoch 15/35\n",
      "187/187 [==============================] - 18s 94ms/step - loss: 0.4502 - accuracy: 0.7843 - val_loss: 0.6895 - val_accuracy: 0.6410\n",
      "Epoch 16/35\n",
      "187/187 [==============================] - 17s 94ms/step - loss: 0.4424 - accuracy: 0.7914 - val_loss: 0.6330 - val_accuracy: 0.6437\n",
      "Epoch 17/35\n",
      "187/187 [==============================] - 18s 94ms/step - loss: 0.4403 - accuracy: 0.7911 - val_loss: 0.6328 - val_accuracy: 0.6417\n",
      "Epoch 18/35\n",
      "187/187 [==============================] - 18s 94ms/step - loss: 0.4350 - accuracy: 0.7985 - val_loss: 0.6429 - val_accuracy: 0.6471\n",
      "Epoch 19/35\n",
      "187/187 [==============================] - 18s 95ms/step - loss: 0.4282 - accuracy: 0.7978 - val_loss: 0.6302 - val_accuracy: 0.6457\n",
      "Epoch 20/35\n",
      "187/187 [==============================] - 18s 96ms/step - loss: 0.4266 - accuracy: 0.8018 - val_loss: 0.6402 - val_accuracy: 0.6564\n",
      "Epoch 21/35\n",
      "187/187 [==============================] - 18s 95ms/step - loss: 0.4192 - accuracy: 0.8082 - val_loss: 0.6292 - val_accuracy: 0.6457\n",
      "Epoch 22/35\n",
      "187/187 [==============================] - 18s 96ms/step - loss: 0.4128 - accuracy: 0.8110 - val_loss: 0.6230 - val_accuracy: 0.6384\n",
      "Epoch 23/35\n",
      "187/187 [==============================] - 18s 95ms/step - loss: 0.4115 - accuracy: 0.8150 - val_loss: 0.6416 - val_accuracy: 0.6143\n",
      "Epoch 24/35\n",
      "187/187 [==============================] - 18s 94ms/step - loss: 0.4163 - accuracy: 0.8050 - val_loss: 0.6347 - val_accuracy: 0.6591\n",
      "Epoch 25/35\n",
      "187/187 [==============================] - 17s 92ms/step - loss: 0.4083 - accuracy: 0.8163 - val_loss: 0.6191 - val_accuracy: 0.6344\n",
      "Epoch 26/35\n",
      "187/187 [==============================] - 17s 92ms/step - loss: 0.4052 - accuracy: 0.8098 - val_loss: 0.6135 - val_accuracy: 0.6511\n",
      "Epoch 27/35\n",
      "187/187 [==============================] - 17s 92ms/step - loss: 0.4016 - accuracy: 0.8167 - val_loss: 0.6128 - val_accuracy: 0.6257\n",
      "Epoch 28/35\n",
      "187/187 [==============================] - 17s 91ms/step - loss: 0.4024 - accuracy: 0.8113 - val_loss: 0.6138 - val_accuracy: 0.6557\n",
      "Epoch 29/35\n",
      "187/187 [==============================] - 17s 92ms/step - loss: 0.4006 - accuracy: 0.8120 - val_loss: 0.6089 - val_accuracy: 0.6303\n",
      "Epoch 30/35\n",
      "187/187 [==============================] - 17s 92ms/step - loss: 0.3938 - accuracy: 0.8172 - val_loss: 0.6105 - val_accuracy: 0.6611\n",
      "Epoch 31/35\n",
      "187/187 [==============================] - 17s 92ms/step - loss: 0.3971 - accuracy: 0.8112 - val_loss: 0.6014 - val_accuracy: 0.6397\n",
      "Epoch 32/35\n",
      "187/187 [==============================] - 17s 91ms/step - loss: 0.3901 - accuracy: 0.8182 - val_loss: 0.5950 - val_accuracy: 0.6511\n",
      "Epoch 33/35\n",
      "187/187 [==============================] - 17s 92ms/step - loss: 0.3848 - accuracy: 0.8227 - val_loss: 0.5944 - val_accuracy: 0.6504\n",
      "Epoch 34/35\n",
      "187/187 [==============================] - 17s 92ms/step - loss: 0.3857 - accuracy: 0.8255 - val_loss: 0.6005 - val_accuracy: 0.6390\n",
      "Epoch 35/35\n",
      "187/187 [==============================] - 17s 93ms/step - loss: 0.3881 - accuracy: 0.8230 - val_loss: 0.5948 - val_accuracy: 0.6604\n",
      "Training Completed!\n",
      "Time Elapsed in seconds 631.3406851\n"
     ]
    }
   ],
   "source": [
    "from timeit import default_timer as timer\n",
    "start = timer()\n",
    "\n",
    "\n",
    " \n",
    "\n",
    "history =classifier.fit_generator(training_set,                         \n",
    "                         epochs = 35,\n",
    "                         validation_data = test_set\n",
    "                         )\n",
    "\n",
    "end = timer() \n",
    "print('Training Completed!')\n",
    "print(\"Time Elapsed in seconds\",  (end - start))"
   ]
  },
  {
   "cell_type": "code",
   "execution_count": 6,
   "metadata": {},
   "outputs": [
    {
     "name": "stdout",
     "output_type": "stream",
     "text": [
      "dict_keys(['loss', 'accuracy', 'val_loss', 'val_accuracy'])\n"
     ]
    },
    {
     "data": {
      "image/png": "[encoded data removed]",
      "text/plain": [
       "<Figure size 432x288 with 1 Axes>"
      ]
     },
     "metadata": {
      "needs_background": "light"
     },
     "output_type": "display_data"
    },
    {
     "data": {
      "image/png": "[encoded data removed]",
      "text/plain": [
       "<Figure size 432x288 with 1 Axes>"
      ]
     },
     "metadata": {
      "needs_background": "light"
     },
     "output_type": "display_data"
    }
   ],
   "source": [
    "import matplotlib.pyplot as plt\n",
    "# list all data in history\n",
    "print(history.history.keys())\n",
    "# summarize history for accuracy\n",
    "plt.plot(history.history['accuracy'])\n",
    "plt.plot(history.history['val_accuracy'])\n",
    "plt.title('model accuracy')\n",
    "plt.ylabel('accuracy')\n",
    "plt.xlabel('epoch')\n",
    "plt.legend(['train', 'test'], loc='upper left')\n",
    "plt.show()\n",
    "# summarize history for loss\n",
    "plt.plot(history.history['loss'])\n",
    "plt.plot(history.history['val_loss'])\n",
    "plt.title('model loss')\n",
    "plt.ylabel('loss')\n",
    "\n",
    "\n",
    "\n",
    "plt.xlabel('epoch')\n",
    "plt.legend(['train', 'test'], loc='upper left')\n",
    "plt.show()\n"
   ]
  },
  {
   "cell_type": "code",
   "execution_count": 7,
   "metadata": {},
   "outputs": [
    {
     "name": "stdout",
     "output_type": "stream",
     "text": [
      "Model: \"sequential\"\n",
      "_________________________________________________________________\n",
      "Layer (type)                 Output Shape              Param #   \n",
      "=================================================================\n",
      "conv2d (Conv2D)              (None, 62, 62, 32)        896       \n",
      "_________________________________________________________________\n",
      "max_pooling2d (MaxPooling2D) (None, 31, 31, 32)        0         \n",
      "_________________________________________________________________\n",
      "conv2d_1 (Conv2D)            (None, 29, 29, 32)        9248      \n",
      "_________________________________________________________________\n",
      "max_pooling2d_1 (MaxPooling2 (None, 14, 14, 32)        0         \n",
      "_________________________________________________________________\n",
      "flatten (Flatten)            (None, 6272)              0         \n",
      "_________________________________________________________________\n",
      "dense (Dense)                (None, 128)               802944    \n",
      "_________________________________________________________________\n",
      "dense_1 (Dense)              (None, 1)                 129       \n",
      "=================================================================\n",
      "Total params: 813,217\n",
      "Trainable params: 813,217\n",
      "Non-trainable params: 0\n",
      "_________________________________________________________________\n",
      "Saved model to disk\n"
     ]
    }
   ],
   "source": [
    "# save model and architecture to single file\n",
    "classifier.save('CNN Binary Classifier With Ftrl.h5')\n",
    "classifier.summary()\n",
    "\n",
    "print(\"Saved model to disk\")"
   ]
  },
  {
   "cell_type": "code",
   "execution_count": null,
   "metadata": {},
   "outputs": [],
   "source": []
  }
 ],
 "metadata": {
  "kernelspec": {
   "display_name": "gpu",
   "language": "python",
   "name": "gpu"
  },
  "language_info": {
   "codemirror_mode": {
    "name": "ipython",
    "version": 3
   },
   "file_extension": ".py",
   "mimetype": "text/x-python",
   "name": "python",
   "nbconvert_exporter": "python",
   "pygments_lexer": "ipython3",
   "version": "3.6.13"
  }
 },
 "nbformat": 4,
 "nbformat_minor": 4
}
