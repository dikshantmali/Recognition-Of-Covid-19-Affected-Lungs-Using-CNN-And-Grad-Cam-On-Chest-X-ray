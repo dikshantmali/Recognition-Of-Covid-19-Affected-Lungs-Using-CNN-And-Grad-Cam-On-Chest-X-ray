{
 "cells": [
  {
   "cell_type": "code",
   "execution_count": 1,
   "metadata": {},
   "outputs": [],
   "source": [
    "from tensorflow import keras\n",
    "from tensorflow.keras.models import Sequential\n",
    "from tensorflow.keras.layers import Conv2D\n",
    "from tensorflow.keras.layers import MaxPooling2D\n",
    "from tensorflow.keras.layers import Flatten\n",
    "from tensorflow.keras.layers import Dense"
   ]
  },
  {
   "cell_type": "code",
   "execution_count": 2,
   "metadata": {},
   "outputs": [
    {
     "name": "stdout",
     "output_type": "stream",
     "text": [
      "Found 5984 images belonging to 2 classes.\n",
      "Found 1496 images belonging to 2 classes.\n"
     ]
    }
   ],
   "source": [
    "# Part 2 - Fitting the CNN to the images\n",
    "\n",
    "from tensorflow.keras.preprocessing.image import ImageDataGenerator\n",
    "\n",
    "train_datagen = ImageDataGenerator(rescale = 1./255,\n",
    "                                   shear_range = 0.2,\n",
    "                                   zoom_range = 0.2,\n",
    "                                   horizontal_flip = True)\n",
    "\n",
    "test_datagen = ImageDataGenerator(rescale = 1./255)\n",
    "\n",
    "training_set = train_datagen.flow_from_directory('main dataset/train',\n",
    "                                                 target_size = (64, 64),\n",
    "                                                 batch_size = 32,\n",
    "                                                 class_mode = 'binary')\n",
    "\n",
    "test_set = test_datagen.flow_from_directory('main dataset/test',\n",
    "                                            target_size = (64, 64),\n",
    "                                            batch_size = 32,\n",
    "                                            class_mode = 'binary')"
   ]
  },
  {
   "cell_type": "code",
   "execution_count": 3,
   "metadata": {},
   "outputs": [],
   "source": [
    "# Initialising the CNN\n",
    "classifier = Sequential()\n",
    "\n",
    "# Step 1 - Convolution\n",
    "classifier.add(Conv2D(32, (3, 3), input_shape = (64, 64, 3), activation = 'relu'))\n",
    "\n",
    "# Step 2 - Pooling\n",
    "classifier.add(MaxPooling2D(pool_size = (2, 2)))\n",
    "\n",
    "# Adding a second convolutional layer\n",
    "classifier.add(Conv2D(32, (3, 3), activation = 'relu'))\n",
    "classifier.add(MaxPooling2D(pool_size = (2, 2)))\n",
    "\n",
    "# Step 3 - Flattening\n",
    "classifier.add(Flatten())\n",
    "\n",
    "# Step 4 - Full connection\n",
    "classifier.add(Dense(units = 128, activation = 'relu'))\n",
    "classifier.add(Dense(units = 1, activation = 'sigmoid'))\n",
    "\n",
    "# Compiling the CNN\n",
    "classifier.compile(optimizer = 'Nadam', loss = 'binary_crossentropy', metrics = ['accuracy'])\n"
   ]
  },
  {
   "cell_type": "code",
   "execution_count": 4,
   "metadata": {},
   "outputs": [
    {
     "name": "stdout",
     "output_type": "stream",
     "text": [
      "Model: \"sequential\"\n",
      "_________________________________________________________________\n",
      "Layer (type)                 Output Shape              Param #   \n",
      "=================================================================\n",
      "conv2d (Conv2D)              (None, 62, 62, 32)        896       \n",
      "_________________________________________________________________\n",
      "max_pooling2d (MaxPooling2D) (None, 31, 31, 32)        0         \n",
      "_________________________________________________________________\n",
      "conv2d_1 (Conv2D)            (None, 29, 29, 32)        9248      \n",
      "_________________________________________________________________\n",
      "max_pooling2d_1 (MaxPooling2 (None, 14, 14, 32)        0         \n",
      "_________________________________________________________________\n",
      "flatten (Flatten)            (None, 6272)              0         \n",
      "_________________________________________________________________\n",
      "dense (Dense)                (None, 128)               802944    \n",
      "_________________________________________________________________\n",
      "dense_1 (Dense)              (None, 1)                 129       \n",
      "=================================================================\n",
      "Total params: 813,217\n",
      "Trainable params: 813,217\n",
      "Non-trainable params: 0\n",
      "_________________________________________________________________\n"
     ]
    }
   ],
   "source": [
    "classifier.summary()"
   ]
  },
  {
   "cell_type": "code",
   "execution_count": 5,
   "metadata": {},
   "outputs": [
    {
     "name": "stdout",
     "output_type": "stream",
     "text": [
      "WARNING:tensorflow:From <ipython-input-5-de6c5e7d6df6>:9: Model.fit_generator (from tensorflow.python.keras.engine.training) is deprecated and will be removed in a future version.\n",
      "Instructions for updating:\n",
      "Please use Model.fit, which supports generators.\n",
      "Epoch 1/35\n",
      "187/187 [==============================] - 36s 192ms/step - loss: 0.5193 - accuracy: 0.7498 - val_loss: 0.6619 - val_accuracy: 0.6223\n",
      "Epoch 2/35\n",
      "187/187 [==============================] - 17s 91ms/step - loss: 0.4077 - accuracy: 0.8120 - val_loss: 0.6329 - val_accuracy: 0.6671\n",
      "Epoch 3/35\n",
      "187/187 [==============================] - 17s 91ms/step - loss: 0.3592 - accuracy: 0.8347 - val_loss: 0.6139 - val_accuracy: 0.6905\n",
      "Epoch 4/35\n",
      "187/187 [==============================] - 17s 92ms/step - loss: 0.3352 - accuracy: 0.8484 - val_loss: 0.5299 - val_accuracy: 0.7206\n",
      "Epoch 5/35\n",
      "187/187 [==============================] - 17s 91ms/step - loss: 0.3140 - accuracy: 0.8591 - val_loss: 0.4979 - val_accuracy: 0.7393\n",
      "Epoch 6/35\n",
      "187/187 [==============================] - 17s 91ms/step - loss: 0.2964 - accuracy: 0.8700 - val_loss: 0.4587 - val_accuracy: 0.7747\n",
      "Epoch 7/35\n",
      "187/187 [==============================] - 17s 92ms/step - loss: 0.2787 - accuracy: 0.8738 - val_loss: 0.5432 - val_accuracy: 0.7092\n",
      "Epoch 8/35\n",
      "187/187 [==============================] - 17s 92ms/step - loss: 0.2708 - accuracy: 0.8800 - val_loss: 0.5029 - val_accuracy: 0.7386\n",
      "Epoch 9/35\n",
      "187/187 [==============================] - 17s 92ms/step - loss: 0.2561 - accuracy: 0.8834 - val_loss: 0.4719 - val_accuracy: 0.7580\n",
      "Epoch 10/35\n",
      "187/187 [==============================] - 17s 92ms/step - loss: 0.2550 - accuracy: 0.8865 - val_loss: 0.4063 - val_accuracy: 0.7914\n",
      "Epoch 11/35\n",
      "187/187 [==============================] - 17s 92ms/step - loss: 0.2448 - accuracy: 0.8974 - val_loss: 0.3757 - val_accuracy: 0.8229\n",
      "Epoch 12/35\n",
      "187/187 [==============================] - 17s 91ms/step - loss: 0.2345 - accuracy: 0.9011 - val_loss: 0.3541 - val_accuracy: 0.8416\n",
      "Epoch 13/35\n",
      "187/187 [==============================] - 17s 94ms/step - loss: 0.2333 - accuracy: 0.9009 - val_loss: 0.3737 - val_accuracy: 0.8269\n",
      "Epoch 14/35\n",
      "187/187 [==============================] - 17s 92ms/step - loss: 0.2168 - accuracy: 0.9086 - val_loss: 0.4134 - val_accuracy: 0.8095\n",
      "Epoch 15/35\n",
      "187/187 [==============================] - 17s 92ms/step - loss: 0.2185 - accuracy: 0.9078 - val_loss: 0.5241 - val_accuracy: 0.7460\n",
      "Epoch 16/35\n",
      "187/187 [==============================] - 17s 92ms/step - loss: 0.2046 - accuracy: 0.9143 - val_loss: 0.3682 - val_accuracy: 0.8202\n",
      "Epoch 17/35\n",
      "187/187 [==============================] - 17s 92ms/step - loss: 0.2016 - accuracy: 0.9129 - val_loss: 0.2898 - val_accuracy: 0.8630\n",
      "Epoch 18/35\n",
      "187/187 [==============================] - 17s 92ms/step - loss: 0.1905 - accuracy: 0.9210 - val_loss: 0.2937 - val_accuracy: 0.8717\n",
      "Epoch 19/35\n",
      "187/187 [==============================] - 17s 92ms/step - loss: 0.1780 - accuracy: 0.9301 - val_loss: 0.2630 - val_accuracy: 0.8884\n",
      "Epoch 20/35\n",
      "187/187 [==============================] - 18s 96ms/step - loss: 0.1720 - accuracy: 0.9295 - val_loss: 0.2913 - val_accuracy: 0.8824\n",
      "Epoch 21/35\n",
      "187/187 [==============================] - 18s 95ms/step - loss: 0.1675 - accuracy: 0.9352 - val_loss: 0.4172 - val_accuracy: 0.8028\n",
      "Epoch 22/35\n",
      "187/187 [==============================] - 18s 95ms/step - loss: 0.1687 - accuracy: 0.9318 - val_loss: 0.2969 - val_accuracy: 0.8750\n",
      "Epoch 23/35\n",
      "187/187 [==============================] - 18s 94ms/step - loss: 0.1598 - accuracy: 0.9360 - val_loss: 0.2749 - val_accuracy: 0.8850\n",
      "Epoch 24/35\n",
      "187/187 [==============================] - 18s 95ms/step - loss: 0.1438 - accuracy: 0.9422 - val_loss: 0.3081 - val_accuracy: 0.8737\n",
      "Epoch 25/35\n",
      "187/187 [==============================] - 18s 95ms/step - loss: 0.1422 - accuracy: 0.9454 - val_loss: 0.2884 - val_accuracy: 0.8743\n",
      "Epoch 26/35\n",
      "187/187 [==============================] - 18s 94ms/step - loss: 0.1361 - accuracy: 0.9444 - val_loss: 0.2701 - val_accuracy: 0.8864\n",
      "Epoch 27/35\n",
      "187/187 [==============================] - 18s 94ms/step - loss: 0.1369 - accuracy: 0.9439 - val_loss: 0.2146 - val_accuracy: 0.9124\n",
      "Epoch 28/35\n",
      "187/187 [==============================] - 18s 96ms/step - loss: 0.1277 - accuracy: 0.9502 - val_loss: 0.2476 - val_accuracy: 0.9031\n",
      "Epoch 29/35\n",
      "187/187 [==============================] - 17s 93ms/step - loss: 0.1255 - accuracy: 0.9500 - val_loss: 0.2017 - val_accuracy: 0.9184\n",
      "Epoch 30/35\n",
      "187/187 [==============================] - 17s 93ms/step - loss: 0.1186 - accuracy: 0.9567 - val_loss: 0.1998 - val_accuracy: 0.9191\n",
      "Epoch 31/35\n",
      "187/187 [==============================] - 17s 93ms/step - loss: 0.1217 - accuracy: 0.9545 - val_loss: 0.2343 - val_accuracy: 0.9037\n",
      "Epoch 32/35\n",
      "187/187 [==============================] - 17s 93ms/step - loss: 0.1089 - accuracy: 0.9566 - val_loss: 0.2362 - val_accuracy: 0.9037\n",
      "Epoch 33/35\n",
      "187/187 [==============================] - 17s 93ms/step - loss: 0.1169 - accuracy: 0.9535 - val_loss: 0.2122 - val_accuracy: 0.9091\n",
      "Epoch 34/35\n",
      "187/187 [==============================] - 17s 92ms/step - loss: 0.1082 - accuracy: 0.9576 - val_loss: 0.2183 - val_accuracy: 0.9104\n",
      "Epoch 35/35\n",
      "187/187 [==============================] - 17s 92ms/step - loss: 0.1068 - accuracy: 0.9606 - val_loss: 0.2608 - val_accuracy: 0.8857\n",
      "Training Completed!\n",
      "Time Elapsed in seconds 631.314528\n"
     ]
    }
   ],
   "source": [
    "from timeit import default_timer as timer\n",
    "start = timer()\n",
    "\n",
    "\n",
    " \n",
    "\n",
    "history =classifier.fit_generator(training_set,                         \n",
    "                         epochs = 35,\n",
    "                         validation_data = test_set\n",
    "                         )\n",
    "\n",
    "end = timer() \n",
    "print('Training Completed!')\n",
    "print(\"Time Elapsed in seconds\",  (end - start))"
   ]
  },
  {
   "cell_type": "code",
   "execution_count": 6,
   "metadata": {},
   "outputs": [
    {
     "name": "stdout",
     "output_type": "stream",
     "text": [
      "dict_keys(['loss', 'accuracy', 'val_loss', 'val_accuracy'])\n"
     ]
    },
    {
     "data": {
      "image/png": "[encoded data removed]",
      "text/plain": [
       "<Figure size 432x288 with 1 Axes>"
      ]
     },
     "metadata": {
      "needs_background": "light"
     },
     "output_type": "display_data"
    },
    {
     "data": {
      "image/png": "[encoded data removed]",
      "text/plain": [
       "<Figure size 432x288 with 1 Axes>"
      ]
     },
     "metadata": {
      "needs_background": "light"
     },
     "output_type": "display_data"
    }
   ],
   "source": [
    "import matplotlib.pyplot as plt\n",
    "# list all data in history\n",
    "print(history.history.keys())\n",
    "# summarize history for accuracy\n",
    "plt.plot(history.history['accuracy'])\n",
    "plt.plot(history.history['val_accuracy'])\n",
    "plt.title('model accuracy')\n",
    "plt.ylabel('accuracy')\n",
    "plt.xlabel('epoch')\n",
    "plt.legend(['train', 'test'], loc='upper left')\n",
    "plt.show()\n",
    "# summarize history for loss\n",
    "plt.plot(history.history['loss'])\n",
    "plt.plot(history.history['val_loss'])\n",
    "plt.title('model loss')\n",
    "plt.ylabel('loss')\n",
    "\n",
    "\n",
    "\n",
    "plt.xlabel('epoch')\n",
    "plt.legend(['train', 'test'], loc='upper left')\n",
    "plt.show()\n"
   ]
  },
  {
   "cell_type": "code",
   "execution_count": 7,
   "metadata": {},
   "outputs": [
    {
     "name": "stdout",
     "output_type": "stream",
     "text": [
      "Model: \"sequential\"\n",
      "_________________________________________________________________\n",
      "Layer (type)                 Output Shape              Param #   \n",
      "=================================================================\n",
      "conv2d (Conv2D)              (None, 62, 62, 32)        896       \n",
      "_________________________________________________________________\n",
      "max_pooling2d (MaxPooling2D) (None, 31, 31, 32)        0         \n",
      "_________________________________________________________________\n",
      "conv2d_1 (Conv2D)            (None, 29, 29, 32)        9248      \n",
      "_________________________________________________________________\n",
      "max_pooling2d_1 (MaxPooling2 (None, 14, 14, 32)        0         \n",
      "_________________________________________________________________\n",
      "flatten (Flatten)            (None, 6272)              0         \n",
      "_________________________________________________________________\n",
      "dense (Dense)                (None, 128)               802944    \n",
      "_________________________________________________________________\n",
      "dense_1 (Dense)              (None, 1)                 129       \n",
      "=================================================================\n",
      "Total params: 813,217\n",
      "Trainable params: 813,217\n",
      "Non-trainable params: 0\n",
      "_________________________________________________________________\n",
      "Saved model to disk\n"
     ]
    }
   ],
   "source": [
    "# save model and architecture to single file\n",
    "classifier.save('CNN Binary Classifier With Nadam.h5')\n",
    "classifier.summary()\n",
    "\n",
    "print(\"Saved model to disk\")"
   ]
  },
  {
   "cell_type": "code",
   "execution_count": null,
   "metadata": {},
   "outputs": [],
   "source": []
  }
 ],
 "metadata": {
  "kernelspec": {
   "display_name": "gpu",
   "language": "python",
   "name": "gpu"
  },
  "language_info": {
   "codemirror_mode": {
    "name": "ipython",
    "version": 3
   },
   "file_extension": ".py",
   "mimetype": "text/x-python",
   "name": "python",
   "nbconvert_exporter": "python",
   "pygments_lexer": "ipython3",
   "version": "3.6.13"
  }
 },
 "nbformat": 4,
 "nbformat_minor": 4
}
