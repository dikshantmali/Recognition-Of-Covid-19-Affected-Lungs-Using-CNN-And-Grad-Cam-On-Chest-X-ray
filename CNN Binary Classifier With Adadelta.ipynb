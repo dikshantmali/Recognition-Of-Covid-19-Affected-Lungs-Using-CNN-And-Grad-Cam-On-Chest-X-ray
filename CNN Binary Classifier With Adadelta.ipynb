{
 "cells": [
  {
   "cell_type": "code",
   "execution_count": 1,
   "metadata": {},
   "outputs": [],
   "source": [
    "from tensorflow import keras\n",
    "from tensorflow.keras.models import Sequential\n",
    "from tensorflow.keras.layers import Conv2D\n",
    "from tensorflow.keras.layers import MaxPooling2D\n",
    "from tensorflow.keras.layers import Flatten\n",
    "from tensorflow.keras.layers import Dense"
   ]
  },
  {
   "cell_type": "code",
   "execution_count": 2,
   "metadata": {},
   "outputs": [
    {
     "name": "stdout",
     "output_type": "stream",
     "text": [
      "Found 5984 images belonging to 2 classes.\n",
      "Found 1496 images belonging to 2 classes.\n"
     ]
    }
   ],
   "source": [
    "# Part 2 - Fitting the CNN to the images\n",
    "\n",
    "from tensorflow.keras.preprocessing.image import ImageDataGenerator\n",
    "\n",
    "train_datagen = ImageDataGenerator(rescale = 1./255,\n",
    "                                   shear_range = 0.2,\n",
    "                                   zoom_range = 0.2,\n",
    "                                   horizontal_flip = True)\n",
    "\n",
    "test_datagen = ImageDataGenerator(rescale = 1./255)\n",
    "\n",
    "training_set = train_datagen.flow_from_directory('main dataset/train',\n",
    "                                                 target_size = (64, 64),\n",
    "                                                 batch_size = 32,\n",
    "                                                 class_mode = 'binary')\n",
    "\n",
    "test_set = test_datagen.flow_from_directory('main dataset/test',\n",
    "                                            target_size = (64, 64),\n",
    "                                            batch_size = 32,\n",
    "                                            class_mode = 'binary')"
   ]
  },
  {
   "cell_type": "code",
   "execution_count": 3,
   "metadata": {},
   "outputs": [],
   "source": [
    "# Initialising the CNN\n",
    "classifier = Sequential()\n",
    "\n",
    "# Step 1 - Convolution\n",
    "classifier.add(Conv2D(32, (3, 3), input_shape = (64, 64, 3), activation = 'relu'))\n",
    "\n",
    "# Step 2 - Pooling\n",
    "classifier.add(MaxPooling2D(pool_size = (2, 2)))\n",
    "\n",
    "# Adding a second convolutional layer\n",
    "classifier.add(Conv2D(32, (3, 3), activation = 'relu'))\n",
    "classifier.add(MaxPooling2D(pool_size = (2, 2)))\n",
    "\n",
    "# Step 3 - Flattening\n",
    "classifier.add(Flatten())\n",
    "\n",
    "# Step 4 - Full connection\n",
    "classifier.add(Dense(units = 128, activation = 'relu'))\n",
    "classifier.add(Dense(units = 1, activation = 'sigmoid'))\n",
    "\n",
    "# Compiling the CNN\n",
    "classifier.compile(optimizer = 'Adadelta', loss = 'binary_crossentropy', metrics = ['accuracy'])\n"
   ]
  },
  {
   "cell_type": "code",
   "execution_count": 4,
   "metadata": {},
   "outputs": [
    {
     "name": "stdout",
     "output_type": "stream",
     "text": [
      "Model: \"sequential\"\n",
      "_________________________________________________________________\n",
      "Layer (type)                 Output Shape              Param #   \n",
      "=================================================================\n",
      "conv2d (Conv2D)              (None, 62, 62, 32)        896       \n",
      "_________________________________________________________________\n",
      "max_pooling2d (MaxPooling2D) (None, 31, 31, 32)        0         \n",
      "_________________________________________________________________\n",
      "conv2d_1 (Conv2D)            (None, 29, 29, 32)        9248      \n",
      "_________________________________________________________________\n",
      "max_pooling2d_1 (MaxPooling2 (None, 14, 14, 32)        0         \n",
      "_________________________________________________________________\n",
      "flatten (Flatten)            (None, 6272)              0         \n",
      "_________________________________________________________________\n",
      "dense (Dense)                (None, 128)               802944    \n",
      "_________________________________________________________________\n",
      "dense_1 (Dense)              (None, 1)                 129       \n",
      "=================================================================\n",
      "Total params: 813,217\n",
      "Trainable params: 813,217\n",
      "Non-trainable params: 0\n",
      "_________________________________________________________________\n"
     ]
    }
   ],
   "source": [
    "classifier.summary()"
   ]
  },
  {
   "cell_type": "code",
   "execution_count": 5,
   "metadata": {},
   "outputs": [
    {
     "name": "stdout",
     "output_type": "stream",
     "text": [
      "WARNING:tensorflow:From <ipython-input-5-de6c5e7d6df6>:9: Model.fit_generator (from tensorflow.python.keras.engine.training) is deprecated and will be removed in a future version.\n",
      "Instructions for updating:\n",
      "Please use Model.fit, which supports generators.\n",
      "Epoch 1/35\n",
      "187/187 [==============================] - 18s 95ms/step - loss: 0.6940 - accuracy: 0.4967 - val_loss: 0.6909 - val_accuracy: 0.5007\n",
      "Epoch 2/35\n",
      "187/187 [==============================] - 17s 93ms/step - loss: 0.6918 - accuracy: 0.5441 - val_loss: 0.6906 - val_accuracy: 0.5675\n",
      "Epoch 3/35\n",
      "187/187 [==============================] - 17s 93ms/step - loss: 0.6902 - accuracy: 0.6283 - val_loss: 0.6904 - val_accuracy: 0.5809\n",
      "Epoch 4/35\n",
      "187/187 [==============================] - 17s 93ms/step - loss: 0.6887 - accuracy: 0.6559 - val_loss: 0.6903 - val_accuracy: 0.5829\n",
      "Epoch 5/35\n",
      "187/187 [==============================] - 17s 92ms/step - loss: 0.6869 - accuracy: 0.6693 - val_loss: 0.6901 - val_accuracy: 0.5695\n",
      "Epoch 6/35\n",
      "187/187 [==============================] - 18s 94ms/step - loss: 0.6856 - accuracy: 0.6832 - val_loss: 0.6899 - val_accuracy: 0.5695\n",
      "Epoch 7/35\n",
      "187/187 [==============================] - 18s 94ms/step - loss: 0.6839 - accuracy: 0.6893 - val_loss: 0.6897 - val_accuracy: 0.5602\n",
      "Epoch 8/35\n",
      "187/187 [==============================] - 17s 93ms/step - loss: 0.6823 - accuracy: 0.6868 - val_loss: 0.6895 - val_accuracy: 0.5662\n",
      "Epoch 9/35\n",
      "187/187 [==============================] - 17s 93ms/step - loss: 0.6811 - accuracy: 0.6964 - val_loss: 0.6892 - val_accuracy: 0.5635\n",
      "Epoch 10/35\n",
      "187/187 [==============================] - 17s 92ms/step - loss: 0.6790 - accuracy: 0.7007 - val_loss: 0.6888 - val_accuracy: 0.5628\n",
      "Epoch 11/35\n",
      "187/187 [==============================] - 17s 92ms/step - loss: 0.6774 - accuracy: 0.7062 - val_loss: 0.6886 - val_accuracy: 0.5615\n",
      "Epoch 12/35\n",
      "187/187 [==============================] - 17s 93ms/step - loss: 0.6755 - accuracy: 0.7127 - val_loss: 0.6883 - val_accuracy: 0.5595\n",
      "Epoch 13/35\n",
      "187/187 [==============================] - 17s 93ms/step - loss: 0.6738 - accuracy: 0.7062 - val_loss: 0.6879 - val_accuracy: 0.5608\n",
      "Epoch 14/35\n",
      "187/187 [==============================] - 17s 93ms/step - loss: 0.6724 - accuracy: 0.7114 - val_loss: 0.6876 - val_accuracy: 0.5622\n",
      "Epoch 15/35\n",
      "187/187 [==============================] - 18s 94ms/step - loss: 0.6700 - accuracy: 0.7199 - val_loss: 0.6872 - val_accuracy: 0.5595\n",
      "Epoch 16/35\n",
      "187/187 [==============================] - 17s 91ms/step - loss: 0.6677 - accuracy: 0.7338 - val_loss: 0.6869 - val_accuracy: 0.5561\n",
      "Epoch 17/35\n",
      "187/187 [==============================] - 17s 91ms/step - loss: 0.6668 - accuracy: 0.7286 - val_loss: 0.6867 - val_accuracy: 0.5648\n",
      "Epoch 18/35\n",
      "187/187 [==============================] - 17s 92ms/step - loss: 0.6645 - accuracy: 0.7251 - val_loss: 0.6863 - val_accuracy: 0.5561\n",
      "Epoch 19/35\n",
      "187/187 [==============================] - 17s 92ms/step - loss: 0.6620 - accuracy: 0.7219 - val_loss: 0.6859 - val_accuracy: 0.5555\n",
      "Epoch 20/35\n",
      "187/187 [==============================] - 17s 92ms/step - loss: 0.6601 - accuracy: 0.7299 - val_loss: 0.6856 - val_accuracy: 0.5555\n",
      "Epoch 21/35\n",
      "187/187 [==============================] - 18s 94ms/step - loss: 0.6574 - accuracy: 0.7298 - val_loss: 0.6853 - val_accuracy: 0.5548\n",
      "Epoch 22/35\n",
      "187/187 [==============================] - 20s 105ms/step - loss: 0.6560 - accuracy: 0.7361 - val_loss: 0.6849 - val_accuracy: 0.5555\n",
      "Epoch 23/35\n",
      "187/187 [==============================] - 20s 108ms/step - loss: 0.6523 - accuracy: 0.7330 - val_loss: 0.6846 - val_accuracy: 0.5561\n",
      "Epoch 24/35\n",
      "187/187 [==============================] - 19s 101ms/step - loss: 0.6508 - accuracy: 0.7346 - val_loss: 0.6843 - val_accuracy: 0.5575\n",
      "Epoch 25/35\n",
      "187/187 [==============================] - 18s 97ms/step - loss: 0.6486 - accuracy: 0.7281 - val_loss: 0.6838 - val_accuracy: 0.5582\n",
      "Epoch 26/35\n",
      "187/187 [==============================] - 18s 97ms/step - loss: 0.6463 - accuracy: 0.7313 - val_loss: 0.6834 - val_accuracy: 0.5548\n",
      "Epoch 27/35\n",
      "187/187 [==============================] - 18s 97ms/step - loss: 0.6423 - accuracy: 0.7391 - val_loss: 0.6830 - val_accuracy: 0.5555\n",
      "Epoch 28/35\n",
      "187/187 [==============================] - 18s 99ms/step - loss: 0.6408 - accuracy: 0.7330 - val_loss: 0.6826 - val_accuracy: 0.5561\n",
      "Epoch 29/35\n",
      "187/187 [==============================] - 18s 94ms/step - loss: 0.6373 - accuracy: 0.7415 - val_loss: 0.6825 - val_accuracy: 0.5561\n",
      "Epoch 30/35\n",
      "187/187 [==============================] - 19s 100ms/step - loss: 0.6352 - accuracy: 0.7405 - val_loss: 0.6820 - val_accuracy: 0.5528\n",
      "Epoch 31/35\n",
      "187/187 [==============================] - 18s 97ms/step - loss: 0.6347 - accuracy: 0.7333 - val_loss: 0.6817 - val_accuracy: 0.5541\n",
      "Epoch 32/35\n",
      "187/187 [==============================] - 19s 99ms/step - loss: 0.6293 - accuracy: 0.7445 - val_loss: 0.6814 - val_accuracy: 0.5521\n",
      "Epoch 33/35\n",
      "187/187 [==============================] - 18s 98ms/step - loss: 0.6270 - accuracy: 0.7428 - val_loss: 0.6811 - val_accuracy: 0.5541\n",
      "Epoch 34/35\n",
      "187/187 [==============================] - 18s 97ms/step - loss: 0.6249 - accuracy: 0.7420 - val_loss: 0.6807 - val_accuracy: 0.5521\n",
      "Epoch 35/35\n",
      "187/187 [==============================] - 18s 99ms/step - loss: 0.6230 - accuracy: 0.7415 - val_loss: 0.6806 - val_accuracy: 0.5541\n",
      "Training Completed!\n",
      "Time Elapsed in seconds 629.6183891999999\n"
     ]
    }
   ],
   "source": [
    "from timeit import default_timer as timer\n",
    "start = timer()\n",
    "\n",
    "\n",
    " \n",
    "\n",
    "history =classifier.fit_generator(training_set,                         \n",
    "                         epochs = 35,\n",
    "                         validation_data = test_set\n",
    "                         )\n",
    "\n",
    "end = timer() \n",
    "print('Training Completed!')\n",
    "print(\"Time Elapsed in seconds\",  (end - start))"
   ]
  },
  {
   "cell_type": "code",
   "execution_count": 6,
   "metadata": {},
   "outputs": [
    {
     "name": "stdout",
     "output_type": "stream",
     "text": [
      "dict_keys(['loss', 'accuracy', 'val_loss', 'val_accuracy'])\n"
     ]
    },
    {
     "data": {
      "image/png": "[encoded data removed]",
      "text/plain": [
       "<Figure size 432x288 with 1 Axes>"
      ]
     },
     "metadata": {
      "needs_background": "light"
     },
     "output_type": "display_data"
    },
    {
     "data": {
      "image/png": "[encoded data removed]",
      "text/plain": [
       "<Figure size 432x288 with 1 Axes>"
      ]
     },
     "metadata": {
      "needs_background": "light"
     },
     "output_type": "display_data"
    }
   ],
   "source": [
    "import matplotlib.pyplot as plt\n",
    "# list all data in history\n",
    "print(history.history.keys())\n",
    "# summarize history for accuracy\n",
    "plt.plot(history.history['accuracy'])\n",
    "plt.plot(history.history['val_accuracy'])\n",
    "plt.title('model accuracy')\n",
    "plt.ylabel('accuracy')\n",
    "plt.xlabel('epoch')\n",
    "plt.legend(['train', 'test'], loc='upper left')\n",
    "plt.show()\n",
    "# summarize history for loss\n",
    "plt.plot(history.history['loss'])\n",
    "plt.plot(history.history['val_loss'])\n",
    "plt.title('model loss')\n",
    "plt.ylabel('loss')\n",
    "\n",
    "\n",
    "\n",
    "plt.xlabel('epoch')\n",
    "plt.legend(['train', 'test'], loc='upper left')\n",
    "plt.show()\n"
   ]
  },
  {
   "cell_type": "code",
   "execution_count": 7,
   "metadata": {},
   "outputs": [
    {
     "name": "stdout",
     "output_type": "stream",
     "text": [
      "Model: \"sequential\"\n",
      "_________________________________________________________________\n",
      "Layer (type)                 Output Shape              Param #   \n",
      "=================================================================\n",
      "conv2d (Conv2D)              (None, 62, 62, 32)        896       \n",
      "_________________________________________________________________\n",
      "max_pooling2d (MaxPooling2D) (None, 31, 31, 32)        0         \n",
      "_________________________________________________________________\n",
      "conv2d_1 (Conv2D)            (None, 29, 29, 32)        9248      \n",
      "_________________________________________________________________\n",
      "max_pooling2d_1 (MaxPooling2 (None, 14, 14, 32)        0         \n",
      "_________________________________________________________________\n",
      "flatten (Flatten)            (None, 6272)              0         \n",
      "_________________________________________________________________\n",
      "dense (Dense)                (None, 128)               802944    \n",
      "_________________________________________________________________\n",
      "dense_1 (Dense)              (None, 1)                 129       \n",
      "=================================================================\n",
      "Total params: 813,217\n",
      "Trainable params: 813,217\n",
      "Non-trainable params: 0\n",
      "_________________________________________________________________\n",
      "Saved model to disk\n"
     ]
    }
   ],
   "source": [
    "# save model and architecture to single file\n",
    "classifier.save('CNN Binary Classifier With Adadelta.h5')\n",
    "classifier.summary()\n",
    "\n",
    "print(\"Saved model to disk\")"
   ]
  }
 ],
 "metadata": {
  "kernelspec": {
   "display_name": "gpu",
   "language": "python",
   "name": "gpu"
  },
  "language_info": {
   "codemirror_mode": {
    "name": "ipython",
    "version": 3
   },
   "file_extension": ".py",
   "mimetype": "text/x-python",
   "name": "python",
   "nbconvert_exporter": "python",
   "pygments_lexer": "ipython3",
   "version": "3.6.13"
  }
 },
 "nbformat": 4,
 "nbformat_minor": 4
}
