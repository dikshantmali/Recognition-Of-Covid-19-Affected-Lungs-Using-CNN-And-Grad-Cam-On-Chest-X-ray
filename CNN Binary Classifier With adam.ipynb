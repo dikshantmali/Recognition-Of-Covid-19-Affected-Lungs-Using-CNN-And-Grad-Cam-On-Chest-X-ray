{
 "cells": [
  {
   "cell_type": "code",
   "execution_count": 1,
   "metadata": {},
   "outputs": [
    {
     "name": "stdout",
     "output_type": "stream",
     "text": [
      "[PhysicalDevice(name='/physical_device:GPU:0', device_type='GPU')]\n"
     ]
    }
   ],
   "source": [
    "import tensorflow as tf\n",
    "from tensorflow.python.client import device_lib\n",
    "print(tf.config.list_physical_devices('GPU'))\n"
   ]
  },
  {
   "cell_type": "code",
   "execution_count": 2,
   "metadata": {},
   "outputs": [
    {
     "name": "stdout",
     "output_type": "stream",
     "text": [
      "[name: \"/device:CPU:0\"\n",
      "device_type: \"CPU\"\n",
      "memory_limit: 268435456\n",
      "locality {\n",
      "}\n",
      "incarnation: 213630866510827472\n",
      ", name: \"/device:XLA_CPU:0\"\n",
      "device_type: \"XLA_CPU\"\n",
      "memory_limit: 17179869184\n",
      "locality {\n",
      "}\n",
      "incarnation: 8093102739779798555\n",
      "physical_device_desc: \"device: XLA_CPU device\"\n",
      ", name: \"/device:GPU:0\"\n",
      "device_type: \"GPU\"\n",
      "memory_limit: 4973462816\n",
      "locality {\n",
      "  bus_id: 1\n",
      "  links {\n",
      "  }\n",
      "}\n",
      "incarnation: 8380756212453795803\n",
      "physical_device_desc: \"device: 0, name: NVIDIA GeForce GTX 1660 Ti, pci bus id: 0000:01:00.0, compute capability: 7.5\"\n",
      ", name: \"/device:XLA_GPU:0\"\n",
      "device_type: \"XLA_GPU\"\n",
      "memory_limit: 17179869184\n",
      "locality {\n",
      "}\n",
      "incarnation: 8773146483087372744\n",
      "physical_device_desc: \"device: XLA_GPU device\"\n",
      "]\n",
      "True\n"
     ]
    }
   ],
   "source": [
    "print(device_lib.list_local_devices())\n",
    "print(tf.test.is_built_with_cuda())"
   ]
  },
  {
   "cell_type": "code",
   "execution_count": 3,
   "metadata": {},
   "outputs": [],
   "source": [
    "from tensorflow import keras\n",
    "from tensorflow.keras.models import Sequential\n",
    "from tensorflow.keras.layers import Conv2D\n",
    "from tensorflow.keras.layers import MaxPooling2D\n",
    "from tensorflow.keras.layers import Flatten\n",
    "from tensorflow.keras.layers import Dense"
   ]
  },
  {
   "cell_type": "code",
   "execution_count": 4,
   "metadata": {},
   "outputs": [
    {
     "name": "stdout",
     "output_type": "stream",
     "text": [
      "Found 5984 images belonging to 2 classes.\n",
      "Found 1496 images belonging to 2 classes.\n"
     ]
    }
   ],
   "source": [
    "# Part 2 - Fitting the CNN to the images\n",
    "\n",
    "from tensorflow.keras.preprocessing.image import ImageDataGenerator\n",
    "\n",
    "train_datagen = ImageDataGenerator(rescale = 1./255,\n",
    "                                   shear_range = 0.2,\n",
    "                                   zoom_range = 0.2,\n",
    "                                   horizontal_flip = True)\n",
    "\n",
    "test_datagen = ImageDataGenerator(rescale = 1./255)\n",
    "\n",
    "training_set = train_datagen.flow_from_directory('main dataset/train',\n",
    "                                                 target_size = (64, 64),\n",
    "                                                 batch_size = 32,\n",
    "                                                 class_mode = 'binary')\n",
    "\n",
    "test_set = test_datagen.flow_from_directory('main dataset/test',\n",
    "                                            target_size = (64, 64),\n",
    "                                            batch_size = 32,\n",
    "                                            class_mode = 'binary')"
   ]
  },
  {
   "cell_type": "code",
   "execution_count": 5,
   "metadata": {},
   "outputs": [
    {
     "data": {
      "text/plain": [
       "{'covid': 0, 'normal': 1}"
      ]
     },
     "execution_count": 5,
     "metadata": {},
     "output_type": "execute_result"
    }
   ],
   "source": [
    "training_set.class_indices"
   ]
  },
  {
   "cell_type": "code",
   "execution_count": 6,
   "metadata": {},
   "outputs": [
    {
     "data": {
      "text/plain": [
       "{'covid': 0, 'normal': 1}"
      ]
     },
     "execution_count": 6,
     "metadata": {},
     "output_type": "execute_result"
    }
   ],
   "source": [
    "test_set.class_indices"
   ]
  },
  {
   "cell_type": "code",
   "execution_count": 7,
   "metadata": {},
   "outputs": [],
   "source": [
    "# Initialising the CNN\n",
    "classifier = Sequential()\n",
    "\n",
    "# Step 1 - Convolution\n",
    "classifier.add(Conv2D(32, (3, 3), input_shape = (64, 64, 3), activation = 'relu'))\n",
    "\n",
    "# Step 2 - Pooling\n",
    "classifier.add(MaxPooling2D(pool_size = (2, 2)))\n",
    "\n",
    "# Adding a second convolutional layer\n",
    "classifier.add(Conv2D(32, (3, 3), activation = 'relu'))\n",
    "classifier.add(MaxPooling2D(pool_size = (2, 2)))\n",
    "\n",
    "# Step 3 - Flattening\n",
    "classifier.add(Flatten())\n",
    "\n",
    "# Step 4 - Full connection\n",
    "classifier.add(Dense(units = 128, activation = 'relu'))\n",
    "classifier.add(Dense(units = 1, activation = 'sigmoid'))\n",
    "\n",
    "# Compiling the CNN\n",
    "classifier.compile(optimizer = 'adam', loss = 'binary_crossentropy', metrics = ['accuracy'])\n"
   ]
  },
  {
   "cell_type": "code",
   "execution_count": 8,
   "metadata": {},
   "outputs": [
    {
     "name": "stdout",
     "output_type": "stream",
     "text": [
      "Model: \"sequential\"\n",
      "_________________________________________________________________\n",
      "Layer (type)                 Output Shape              Param #   \n",
      "=================================================================\n",
      "conv2d (Conv2D)              (None, 62, 62, 32)        896       \n",
      "_________________________________________________________________\n",
      "max_pooling2d (MaxPooling2D) (None, 31, 31, 32)        0         \n",
      "_________________________________________________________________\n",
      "conv2d_1 (Conv2D)            (None, 29, 29, 32)        9248      \n",
      "_________________________________________________________________\n",
      "max_pooling2d_1 (MaxPooling2 (None, 14, 14, 32)        0         \n",
      "_________________________________________________________________\n",
      "flatten (Flatten)            (None, 6272)              0         \n",
      "_________________________________________________________________\n",
      "dense (Dense)                (None, 128)               802944    \n",
      "_________________________________________________________________\n",
      "dense_1 (Dense)              (None, 1)                 129       \n",
      "=================================================================\n",
      "Total params: 813,217\n",
      "Trainable params: 813,217\n",
      "Non-trainable params: 0\n",
      "_________________________________________________________________\n"
     ]
    }
   ],
   "source": [
    "classifier.summary()"
   ]
  },
  {
   "cell_type": "code",
   "execution_count": 9,
   "metadata": {},
   "outputs": [
    {
     "name": "stdout",
     "output_type": "stream",
     "text": [
      "WARNING:tensorflow:From <ipython-input-9-de6c5e7d6df6>:9: Model.fit_generator (from tensorflow.python.keras.engine.training) is deprecated and will be removed in a future version.\n",
      "Instructions for updating:\n",
      "Please use Model.fit, which supports generators.\n",
      "Epoch 1/35\n",
      "187/187 [==============================] - 17s 93ms/step - loss: 0.5155 - accuracy: 0.7370 - val_loss: 0.7493 - val_accuracy: 0.6070\n",
      "Epoch 2/35\n",
      "187/187 [==============================] - 17s 91ms/step - loss: 0.4199 - accuracy: 0.8011 - val_loss: 0.6090 - val_accuracy: 0.6457\n",
      "Epoch 3/35\n",
      "187/187 [==============================] - 17s 91ms/step - loss: 0.3744 - accuracy: 0.8302 - val_loss: 0.5488 - val_accuracy: 0.6979\n",
      "Epoch 4/35\n",
      "187/187 [==============================] - 20s 105ms/step - loss: 0.3400 - accuracy: 0.8448 - val_loss: 0.5580 - val_accuracy: 0.7112\n",
      "Epoch 5/35\n",
      "187/187 [==============================] - 18s 97ms/step - loss: 0.3332 - accuracy: 0.8486 - val_loss: 0.4722 - val_accuracy: 0.7527\n",
      "Epoch 6/35\n",
      "187/187 [==============================] - 18s 96ms/step - loss: 0.3187 - accuracy: 0.8548 - val_loss: 0.5992 - val_accuracy: 0.7019\n",
      "Epoch 7/35\n",
      "187/187 [==============================] - 18s 96ms/step - loss: 0.3008 - accuracy: 0.8620 - val_loss: 0.5252 - val_accuracy: 0.7306\n",
      "Epoch 8/35\n",
      "187/187 [==============================] - 17s 92ms/step - loss: 0.2758 - accuracy: 0.8762 - val_loss: 0.5954 - val_accuracy: 0.6972\n",
      "Epoch 9/35\n",
      "187/187 [==============================] - 17s 93ms/step - loss: 0.2800 - accuracy: 0.8782 - val_loss: 0.4398 - val_accuracy: 0.7787\n",
      "Epoch 10/35\n",
      "187/187 [==============================] - 58s 313ms/step - loss: 0.2645 - accuracy: 0.8830 - val_loss: 0.4485 - val_accuracy: 0.7834\n",
      "Epoch 11/35\n",
      "187/187 [==============================] - 27s 146ms/step - loss: 0.2567 - accuracy: 0.8887 - val_loss: 0.4838 - val_accuracy: 0.7527\n",
      "Epoch 12/35\n",
      "187/187 [==============================] - 18s 95ms/step - loss: 0.2549 - accuracy: 0.8907 - val_loss: 0.4169 - val_accuracy: 0.8021\n",
      "Epoch 13/35\n",
      "187/187 [==============================] - 18s 94ms/step - loss: 0.2445 - accuracy: 0.8954 - val_loss: 0.4214 - val_accuracy: 0.7975\n",
      "Epoch 14/35\n",
      "187/187 [==============================] - 17s 93ms/step - loss: 0.2296 - accuracy: 0.9006 - val_loss: 0.4388 - val_accuracy: 0.7714\n",
      "Epoch 15/35\n",
      "187/187 [==============================] - 17s 93ms/step - loss: 0.2253 - accuracy: 0.9032 - val_loss: 0.3783 - val_accuracy: 0.8336\n",
      "Epoch 16/35\n",
      "187/187 [==============================] - 17s 93ms/step - loss: 0.2285 - accuracy: 0.9017 - val_loss: 0.3461 - val_accuracy: 0.8443\n",
      "Epoch 17/35\n",
      "187/187 [==============================] - 18s 94ms/step - loss: 0.2228 - accuracy: 0.9024 - val_loss: 0.3491 - val_accuracy: 0.8402\n",
      "Epoch 18/35\n",
      "187/187 [==============================] - 17s 90ms/step - loss: 0.2064 - accuracy: 0.9163 - val_loss: 0.4149 - val_accuracy: 0.7948\n",
      "Epoch 19/35\n",
      "187/187 [==============================] - 17s 90ms/step - loss: 0.2067 - accuracy: 0.9138 - val_loss: 0.3800 - val_accuracy: 0.8255\n",
      "Epoch 20/35\n",
      "187/187 [==============================] - 17s 92ms/step - loss: 0.1986 - accuracy: 0.9164 - val_loss: 0.3086 - val_accuracy: 0.8583\n",
      "Epoch 21/35\n",
      "187/187 [==============================] - 17s 92ms/step - loss: 0.1854 - accuracy: 0.9226 - val_loss: 0.3017 - val_accuracy: 0.8610\n",
      "Epoch 22/35\n",
      "187/187 [==============================] - 17s 92ms/step - loss: 0.1870 - accuracy: 0.9226 - val_loss: 0.2931 - val_accuracy: 0.8737\n",
      "Epoch 23/35\n",
      "187/187 [==============================] - 17s 91ms/step - loss: 0.1828 - accuracy: 0.9221 - val_loss: 0.4022 - val_accuracy: 0.8202\n",
      "Epoch 24/35\n",
      "187/187 [==============================] - 17s 91ms/step - loss: 0.1754 - accuracy: 0.9286 - val_loss: 0.3503 - val_accuracy: 0.8409\n",
      "Epoch 25/35\n",
      "187/187 [==============================] - 17s 93ms/step - loss: 0.1691 - accuracy: 0.9303 - val_loss: 0.3006 - val_accuracy: 0.8663\n",
      "Epoch 26/35\n",
      "187/187 [==============================] - 18s 97ms/step - loss: 0.1710 - accuracy: 0.9291 - val_loss: 0.3528 - val_accuracy: 0.8463\n",
      "Epoch 27/35\n",
      "187/187 [==============================] - 18s 95ms/step - loss: 0.1604 - accuracy: 0.9345 - val_loss: 0.2731 - val_accuracy: 0.8857\n",
      "Epoch 28/35\n",
      "187/187 [==============================] - 17s 92ms/step - loss: 0.1607 - accuracy: 0.9347 - val_loss: 0.3311 - val_accuracy: 0.8697\n",
      "Epoch 29/35\n",
      "187/187 [==============================] - 17s 93ms/step - loss: 0.1415 - accuracy: 0.9455 - val_loss: 0.3062 - val_accuracy: 0.8717\n",
      "Epoch 30/35\n",
      "187/187 [==============================] - 17s 92ms/step - loss: 0.1517 - accuracy: 0.9392 - val_loss: 0.2858 - val_accuracy: 0.8904\n",
      "Epoch 31/35\n",
      "187/187 [==============================] - 17s 92ms/step - loss: 0.1406 - accuracy: 0.9400 - val_loss: 0.2365 - val_accuracy: 0.9138\n",
      "Epoch 32/35\n",
      "187/187 [==============================] - 19s 104ms/step - loss: 0.1404 - accuracy: 0.9425 - val_loss: 0.2256 - val_accuracy: 0.9191\n",
      "Epoch 33/35\n",
      "187/187 [==============================] - 18s 96ms/step - loss: 0.1324 - accuracy: 0.9457 - val_loss: 0.2581 - val_accuracy: 0.8964\n",
      "Epoch 34/35\n",
      "187/187 [==============================] - 17s 93ms/step - loss: 0.1290 - accuracy: 0.9504 - val_loss: 0.2982 - val_accuracy: 0.8763\n",
      "Epoch 35/35\n",
      "187/187 [==============================] - 17s 93ms/step - loss: 0.1258 - accuracy: 0.9515 - val_loss: 0.2217 - val_accuracy: 0.9184\n",
      "Training Completed!\n",
      "Time Elapsed in seconds 669.6305185\n"
     ]
    }
   ],
   "source": [
    "from timeit import default_timer as timer\n",
    "start = timer()\n",
    "\n",
    "\n",
    " \n",
    "\n",
    "history =classifier.fit_generator(training_set,                         \n",
    "                         epochs = 35,\n",
    "                         validation_data = test_set\n",
    "                         )\n",
    "\n",
    "end = timer() \n",
    "print('Training Completed!')\n",
    "print(\"Time Elapsed in seconds\",  (end - start))"
   ]
  },
  {
   "cell_type": "code",
   "execution_count": 10,
   "metadata": {},
   "outputs": [
    {
     "name": "stdout",
     "output_type": "stream",
     "text": [
      "dict_keys(['loss', 'accuracy', 'val_loss', 'val_accuracy'])\n"
     ]
    },
    {
     "data": {
      "image/png": "[encoded data removed]",
      "text/plain": [
       "<Figure size 432x288 with 1 Axes>"
      ]
     },
     "metadata": {
      "needs_background": "light"
     },
     "output_type": "display_data"
    },
    {
     "data": {
      "image/png": "[encoded data removed]",
      "text/plain": [
       "<Figure size 432x288 with 1 Axes>"
      ]
     },
     "metadata": {
      "needs_background": "light"
     },
     "output_type": "display_data"
    }
   ],
   "source": [
    "import matplotlib.pyplot as plt\n",
    "# list all data in history\n",
    "print(history.history.keys())\n",
    "# summarize history for accuracy\n",
    "plt.plot(history.history['accuracy'])\n",
    "plt.plot(history.history['val_accuracy'])\n",
    "plt.title('model accuracy')\n",
    "plt.ylabel('accuracy')\n",
    "plt.xlabel('epoch')\n",
    "plt.legend(['train', 'test'], loc='upper left')\n",
    "plt.show()\n",
    "# summarize history for loss\n",
    "plt.plot(history.history['loss'])\n",
    "plt.plot(history.history['val_loss'])\n",
    "plt.title('model loss')\n",
    "plt.ylabel('loss')\n",
    "\n",
    "\n",
    "\n",
    "plt.xlabel('epoch')\n",
    "plt.legend(['train', 'test'], loc='upper left')\n",
    "plt.show()\n"
   ]
  },
  {
   "cell_type": "code",
   "execution_count": 11,
   "metadata": {},
   "outputs": [
    {
     "name": "stdout",
     "output_type": "stream",
     "text": [
      "Model: \"sequential\"\n",
      "_________________________________________________________________\n",
      "Layer (type)                 Output Shape              Param #   \n",
      "=================================================================\n",
      "conv2d (Conv2D)              (None, 62, 62, 32)        896       \n",
      "_________________________________________________________________\n",
      "max_pooling2d (MaxPooling2D) (None, 31, 31, 32)        0         \n",
      "_________________________________________________________________\n",
      "conv2d_1 (Conv2D)            (None, 29, 29, 32)        9248      \n",
      "_________________________________________________________________\n",
      "max_pooling2d_1 (MaxPooling2 (None, 14, 14, 32)        0         \n",
      "_________________________________________________________________\n",
      "flatten (Flatten)            (None, 6272)              0         \n",
      "_________________________________________________________________\n",
      "dense (Dense)                (None, 128)               802944    \n",
      "_________________________________________________________________\n",
      "dense_1 (Dense)              (None, 1)                 129       \n",
      "=================================================================\n",
      "Total params: 813,217\n",
      "Trainable params: 813,217\n",
      "Non-trainable params: 0\n",
      "_________________________________________________________________\n",
      "Saved model to disk\n"
     ]
    }
   ],
   "source": [
    "# save model and architecture to single file\n",
    "classifier.save('CNN Binary Classifier With adam.h5')\n",
    "classifier.summary()\n",
    "\n",
    "print(\"Saved model to disk\")"
   ]
  },
  {
   "cell_type": "code",
   "execution_count": null,
   "metadata": {},
   "outputs": [],
   "source": []
  }
 ],
 "metadata": {
  "kernelspec": {
   "display_name": "gpu",
   "language": "python",
   "name": "gpu"
  },
  "language_info": {
   "codemirror_mode": {
    "name": "ipython",
    "version": 3
   },
   "file_extension": ".py",
   "mimetype": "text/x-python",
   "name": "python",
   "nbconvert_exporter": "python",
   "pygments_lexer": "ipython3",
   "version": "3.6.13"
  }
 },
 "nbformat": 4,
 "nbformat_minor": 4
}
